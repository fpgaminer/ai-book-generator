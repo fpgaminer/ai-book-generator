{
 "cells": [
  {
   "cell_type": "code",
   "execution_count": 146,
   "metadata": {},
   "outputs": [
    {
     "name": "stdout",
     "output_type": "stream",
     "text": [
      "The dotenv extension is already loaded. To reload it, use:\n",
      "  %reload_ext dotenv\n"
     ]
    }
   ],
   "source": [
    "%load_ext dotenv\n",
    "%dotenv\n",
    "import os\n",
    "import requests\n",
    "import random\n",
    "import csv\n",
    "from transformers import GPTNeoXTokenizerFast\n",
    "from typing import List, Union, Any\n",
    "import time\n",
    "import numpy as np\n",
    "import requests\n",
    "from requests.adapters import HTTPAdapter, Retry\n",
    "from tqdm.auto import tqdm\n",
    "import json\n",
    "import getpass"
   ]
  },
  {
   "cell_type": "code",
   "execution_count": 147,
   "metadata": {},
   "outputs": [],
   "source": [
    "GPT_API_URL = os.getenv(\"GPT_API_URL\")\n",
    "AB_TESTER_URL = os.getenv(\"AB_TESTER_URL\")"
   ]
  },
  {
   "cell_type": "code",
   "execution_count": 142,
   "metadata": {},
   "outputs": [],
   "source": [
    "tokenizer = GPTNeoXTokenizerFast.from_pretrained(\"EleutherAI/gpt-neox-20b\")"
   ]
  },
  {
   "cell_type": "code",
   "execution_count": 143,
   "metadata": {},
   "outputs": [],
   "source": [
    "def token_length(prompt: str) -> int:\n",
    "\treturn tokenizer(prompt, return_tensors=\"np\").input_ids.shape[1]\n",
    "\n",
    "\n",
    "def gpt_api(prompt: str, filters: List[Any], maximum_tokens: int, n_samples: int, eos_token: Union[int, None] = None, n_gens_per_context: int = 128) -> List[str]:\n",
    "\tr = requests.post(GPT_API_URL, json={\n",
    "\t\t'prompt': prompt,\n",
    "\t\t'filters': filters,\n",
    "\t\t'maximum_tokens': maximum_tokens,\n",
    "\t\t'n_samples': n_samples,\n",
    "\t\t'eos_token_id': eos_token,\n",
    "\t\t'n_gens_per_context': n_gens_per_context,\n",
    "\t})\n",
    "\tr.raise_for_status()\n",
    "\treturn r.json()['tokens']"
   ]
  },
  {
   "cell_type": "code",
   "execution_count": 25,
   "metadata": {},
   "outputs": [
    {
     "name": "stdout",
     "output_type": "stream",
     "text": [
      "['BL record ID', 'Type of resource', 'Name', 'Dates associated with name', 'Type of name', 'Role', 'All names', 'Title', 'Variant titles', 'Series title', 'Number within series', 'Country of publication', 'Place of publication', 'Publisher', 'Date of publication', 'Edition', 'Physical description', 'Dewey classification', 'BL shelfmark', 'Topics', 'Genre', 'Languages', 'Notes', 'BL record ID for physical resource']\n",
      "Titles:\n",
      "The History and Antiquities of Eyam ... Third edition, with illustrations from photographs by J. A. Warwick\n",
      "Mount Auburn: its scenes, its beauties, and its lessons\n",
      "Rob Roy Macgregor, or Auld Lang Syne! A musical drama, in three acts. Founded on the popular novel of 'Rob Roy.'\n",
      "Jerusalem the Holy. A brief history of ancient Jerusalem; with an account of the modern city ... With fifteen illustrations from photographs and four maps\n",
      "Un' Ultima Confessione ... Poemetto inglese volgarizzato da E. Teza\n",
      "Chronik von Wiener-Neustadt [With plates.]\n",
      "Aspects of Paris\n",
      "The Black Highwayman. (Being the second series of Black Bess.) [By Edward Viles.]\n",
      "The Village Churchyard; and other poems\n",
      "The Pygmies ... Translated by F. Starr, etc\n",
      "\n",
      "Authors:\n",
      "Westwood, T. (Thomas)\n",
      "Hughes, William Richard\n",
      "Davison, Henry\n",
      "Saunders, John\n",
      "Hannay, James\n",
      "Palmer, Frederick C.\n",
      "Ropp, Goswin von der, Baron\n",
      "Whitaker, Evelyn\n",
      "Ireland [Ireland -1922]\n",
      "Stephens, Margaret\n",
      "\n",
      "Average title length: 23.3450991555176\n",
      "\n",
      "Median title length: 19\n",
      "\n",
      "Max title length: 426\n"
     ]
    }
   ],
   "source": [
    "# Read metadata\n",
    "with open('MS_digitised_books_2021-01-09.csv', 'r') as csvfile:\n",
    "\treader = csv.reader(csvfile)\n",
    "\trows = list(reader)\n",
    "\theaders = rows[0]\n",
    "\tprint(headers)\n",
    "\trows = rows[1:]\n",
    "\ttitles = [row[headers.index('Title')] for row in rows]\n",
    "\tauthors = [row[headers.index('Name')] for row in rows]\n",
    "\tvariant_titles = [row[headers.index('Variant titles')] for row in rows]\n",
    "\n",
    "# Filter out empty strings\n",
    "titles = [title for title in titles if title != '']\n",
    "authors = [author for author in authors if author != '']\n",
    "variant_titles = [variant_title for variant_title in variant_titles if variant_title != '']\n",
    "\n",
    "# Print some random titles\n",
    "print(\"Titles:\")\n",
    "print(\"\\n\".join(random.sample(titles, 10)))\n",
    "\n",
    "print(\"\\nAuthors:\")\n",
    "print(\"\\n\".join(random.sample(authors, 10)))\n",
    "\n",
    "#print(\"\\nVariant titles:\")\n",
    "#print(\"\\n\".join(random.sample(variant_titles, 10)))\n",
    "\n",
    "# Average title length:\n",
    "print(\"\\nAverage title length:\", sum([tokenizer(title, return_tensors=\"np\").input_ids.shape[1] for title in titles]) / len(titles))\n",
    "\n",
    "# Median title length\n",
    "print(\"\\nMedian title length:\", sorted([tokenizer(title, return_tensors=\"np\").input_ids.shape[1] for title in titles])[int(len(titles) / 2)])\n",
    "\n",
    "# Max title length\n",
    "print(\"\\nMax title length:\", max([tokenizer(title, return_tensors=\"np\").input_ids.shape[1] for title in titles]))"
   ]
  },
  {
   "cell_type": "code",
   "execution_count": 27,
   "metadata": {},
   "outputs": [],
   "source": [
    "# Generate book title\n",
    "def generate_book_title(filters):\n",
    "\t# Generate a prompt using a list of real titles\n",
    "\ttitles_prompt = \"[Book Titles]\\n\"\n",
    "\tn_tokens = token_length(titles_prompt)\n",
    "\n",
    "\twhile True:\n",
    "\t\ttitle = random.choice(titles) + \"\\n\"\n",
    "\t\ttitle_tokens = token_length(title)\n",
    "\n",
    "\t\t# Exclude long titles\n",
    "\t\tif title_tokens > 32:\n",
    "\t\t\tcontinue\n",
    "\t\t\n",
    "\t\tif title_tokens + n_tokens > (2048 - 128):\n",
    "\t\t\tbreak\n",
    "\n",
    "\t\ttitles_prompt += title\n",
    "\t\tn_tokens += title_tokens\n",
    "\t\n",
    "\t# Generate\n",
    "\ttitle = gpt_api(titles_prompt, filters=filters, maximum_tokens=64, n_samples=1, eos_token=tokenizer.encode(\"\\n\")[0])[0]\n",
    "\treturn title.strip()"
   ]
  },
  {
   "cell_type": "code",
   "execution_count": null,
   "metadata": {},
   "outputs": [],
   "source": [
    "# Testing:\n",
    "\n",
    "# Generate a prompt using a list of real titles\n",
    "#titles_prompt = \"[Book Titles]\\n\"\n",
    "#n_tokens = token_length(titles_prompt)\n",
    "\n",
    "# while True:\n",
    "# \ttitle = random.choice(titles) + \"\\n\"\n",
    "# \ttitle_tokens = token_length(title)\n",
    "\n",
    "# \t# Exclude long titles\n",
    "# \tif title_tokens > 32:\n",
    "# \t\tcontinue\n",
    "\t\n",
    "# \tif title_tokens + n_tokens > (2048 - 128):\n",
    "# \t\tbreak\n",
    "\n",
    "# \ttitles_prompt += title\n",
    "# \tn_tokens += title_tokens\n",
    "\n",
    "#print(f\"Context length: {n_tokens}\")\n",
    "#print(\"Context:\")\n",
    "#print(titles_prompt)\n",
    "\n",
    "# print(\"\\n\\nNone:\")\n",
    "# for _ in range(8):\n",
    "# \ttitle = gpt_api(titles_prompt, temperature=0.7, top_k=0, top_p=0.5, maximum_tokens=64, n_samples=1, eos_token=None)[0]\n",
    "# \t# Truncate at first newline\n",
    "# \ttitle = title[:title.index(\"\\n\")]\n",
    "# \tprint(title)\n",
    "\n",
    "# print(\"\\n\\nEOS:\")\n",
    "# for _ in range(8):\n",
    "# \ttitle = gpt_api(titles_prompt, temperature=0.7, top_k=0, top_p=0.5, maximum_tokens=64, n_samples=1, eos_token=tokenizer.encode(\"\\n\")[0])[0]\n",
    "# \tprint(title)\n",
    "\n",
    "# print(\"\\n\\nRAW:\")\n",
    "# filters = [\n",
    "# \t{'repetition': {'param': 1.05, 'range': 560}},\n",
    "# \t{'tailfree': 0.937},\n",
    "# \t{'top_a': 0.085},\n",
    "# \t{'typical': 0.965},\n",
    "# \t{'top_p': 0.88},\n",
    "# \t{'temp': 1.33},\n",
    "# ]\n",
    "# print(gpt_api(titles_prompt, filters=filters, maximum_tokens=128, n_samples=1, eos_token=None)[0])\n",
    "\n",
    "# 6.1s, so .05s per token\n",
    "# About 1 second per token...\n",
    "# 2045 => 1.3s\n",
    "# 2043 => 1.3s\n",
    "# 1024 => 6.9s"
   ]
  },
  {
   "cell_type": "code",
   "execution_count": 15,
   "metadata": {},
   "outputs": [
    {
     "name": "stdout",
     "output_type": "stream",
     "text": [
      "The Whim; a comedy, [in three acts.] By Mr. W. H. Colles\n",
      "The Wooing O't. A comedy\n",
      "Tales of the Wonder Club\n",
      "The Lore of Shakespeare, and other poems. By J. O. H [by John O'Brien Haggard.]\n",
      "The Claverings. A novel\n",
      "The History of St. Catharine's, Leicestershire, from its foundation to the present time\n",
      "The Poetical Works of William Wordsworth. With a memoir, by his sister, and a preface by T. Hutchinson\n",
      "The History of the Life and Adventures of Mrs. Mary Anne Talbot. By herself\n"
     ]
    }
   ],
   "source": [
    "for _ in range(8):\n",
    "\ttitle = generate_book_title()\n",
    "\tprint(title)"
   ]
  },
  {
   "cell_type": "code",
   "execution_count": 128,
   "metadata": {},
   "outputs": [
    {
     "data": {
      "text/plain": [
       "[{'repetition': {'param': 1.0166666666666666, 'range': 1801}},\n",
       " {'top_p': 0.92},\n",
       " {'temp': 1.06},\n",
       " {'top_k': 10}]"
      ]
     },
     "execution_count": 128,
     "metadata": {},
     "output_type": "execute_result"
    }
   ],
   "source": [
    "def random_filter():\n",
    "\t#Repetition Penality => [1, 1.075]\n",
    "\t#Repetition Range => [496, 2048]\n",
    "\t#Tail-Free => [0.879, 0.997]\n",
    "\t#Top A => [0.06, 0.15]\n",
    "\t#Typical => [0.85, 0.996]\n",
    "\t#Nucleus => [0.88, 1]\n",
    "\t#Top-K => [10, 85]\n",
    "\t#Randomness => [0.34, 2.5]\n",
    "\n",
    "\trepetition_param = random.choice(np.linspace(1, 1.075, num=10))\n",
    "\trepetition_range = random.randrange(496, 2048)\n",
    "\ttemp = random.choice(np.linspace(0.34, 2.5, num=10))\n",
    "\n",
    "\tn_filters = random.randrange(1, 5)\n",
    "\tfilters = [\n",
    "\t\t{'tailfree': random.choice(np.linspace(0.879, 0.997, num=10))},\n",
    "\t\t{'top_a': random.choice(np.linspace(0.06, 0.15, num=10))},\n",
    "\t\t{'typical': random.choice(np.linspace(0.85, 0.996, num=10))},\n",
    "\t\t{'top_p': random.choice(np.linspace(0.88, 1, num=10))},\n",
    "\t\t{'top_k': int(random.choice(np.logspace(3.4, 10, base=2, num=10)))},\n",
    "\t]\n",
    "\trandom.shuffle(filters)\n",
    "\tfilters = filters[:n_filters] + [{'temp': temp}]\n",
    "\trandom.shuffle(filters)\n",
    "\tfilters = [{'repetition': {'param': repetition_param, 'range': repetition_range}}] + filters\n",
    "\treturn filters\n",
    "\n",
    "random_filter()"
   ]
  },
  {
   "cell_type": "code",
   "execution_count": 134,
   "metadata": {},
   "outputs": [
    {
     "name": "stderr",
     "output_type": "stream",
     "text": [
      "100%|██████████| 1024/1024 [1:22:01<00:00,  4.81s/it]\n"
     ]
    }
   ],
   "source": [
    "# Generate a bunch of titles\n",
    "title_filter_combinations = {\n",
    "\t# Big Dumb\n",
    "\t'temp=0.7,top_k=40': [\n",
    "\t\t{'temp': 0.7},\n",
    "\t\t{'top_k': 40},\n",
    "\t],\n",
    "\t# Blue Lighter (similar to NovelAI's)\n",
    "\t'rep=1.05,rep_range=560,tailfree=0.937,top_a=0.085,typical=0.965,top_p=0.88,temp=1.33': [\n",
    "\t\t{'repetition': {'param': 1.05, 'range': 560}},\n",
    "\t\t{'tailfree': 0.937},\n",
    "\t\t{'top_a': 0.085},\n",
    "\t\t{'typical': 0.965},\n",
    "\t\t{'top_p': 0.88},\n",
    "\t\t{'temp': 1.33},\n",
    "\t],\n",
    "\t# Reverie (similar to NovelAI's)\n",
    "\t'rep=1.0225,rep_range=2048,tailfree=0.925,typical=0.85,top_a=0.12,top_p=0.985,temp=0.925,top_k=85': [\n",
    "\t\t{'repetition': {'param': 1.0225, 'range': 2048}},\n",
    "\t\t{'tailfree': 0.925},\n",
    "\t\t{'typical': 0.85},\n",
    "\t\t{'top_a': 0.12},\n",
    "\t\t{'top_p': 0.985},\n",
    "\t\t{'temp': 0.925},\n",
    "\t\t{'top_k': 85},\n",
    "\t],\n",
    "\t# Random-1\n",
    "\t'rep=1.0583333333333333,rep_range=1131,top_k=80,temp=1.54,top_p=0.92,typical=0.996,tailfree=0.879':[\n",
    "\t\t{'repetition': {'param': 1.0583333333333333, 'range': 1131}},\n",
    "\t\t{'top_k': 80},\n",
    "\t\t{'temp': 1.5400000000000003},\n",
    "\t\t{'top_p': 0.92},\n",
    "\t\t{'typical': 0.996},\n",
    "\t\t{'tailfree': 0.879}\n",
    "\t],\n",
    "\t# Less Dumb\n",
    "\t#'rep=1.05,rep_range=560,temp=0.7,top_k=40': [\n",
    "\t#\t{'repetition': {'param': 1.05, 'range': 560}},\n",
    "\t#\t{'temp': 0.7},\n",
    "\t#\t{'top_k': 40},\n",
    "\t#],\n",
    "}\n",
    "\n",
    "for _ in tqdm(range(1024)):\n",
    "\ttime.sleep(3)\n",
    "\tfilter = random.choice(list(title_filter_combinations.keys()))\n",
    "\t#print(f\"Filter: {filter}\")\n",
    "\n",
    "\ttitle = generate_book_title(title_filter_combinations[filter])\n",
    "\tif token_length(title) > 32:\n",
    "\t\tcontinue\n",
    "\n",
    "\twith open(\"generated_titles.txt\", \"a\") as f:\n",
    "\t\tf.write(f\"{filter},title={title}\\n\")"
   ]
  },
  {
   "cell_type": "code",
   "execution_count": 145,
   "metadata": {},
   "outputs": [],
   "source": [
    "# Read Project ID and Project Admin Token\n",
    "project_id = getpass.getpass(\"Project ID\")\n",
    "project_admin_token = getpass.getpass(\"Project Admin Token\")"
   ]
  },
  {
   "cell_type": "code",
   "execution_count": 135,
   "metadata": {},
   "outputs": [
    {
     "name": "stdout",
     "output_type": "stream",
     "text": [
      "Average titles per filter: 474\n"
     ]
    },
    {
     "name": "stderr",
     "output_type": "stream",
     "text": [
      " 24%|██▍       | 566/2372 [00:34<01:39, 18.15it/s]"
     ]
    },
    {
     "name": "stdout",
     "output_type": "stream",
     "text": [
      "Plagiarism: rep=1.0225,rep_range=2048,tailfree=0.925,typical=0.85,top_a=0.12,top_p=0.985,temp=0.925,top_k=85\n"
     ]
    },
    {
     "name": "stderr",
     "output_type": "stream",
     "text": [
      " 24%|██▍       | 573/2372 [00:34<01:35, 18.90it/s]"
     ]
    },
    {
     "name": "stdout",
     "output_type": "stream",
     "text": [
      "Plagiarism: rep=1.05,rep_range=560,tailfree=0.937,top_a=0.085,typical=0.965,top_p=0.88,temp=1.33\n"
     ]
    },
    {
     "name": "stderr",
     "output_type": "stream",
     "text": [
      " 25%|██▍       | 590/2372 [00:35<01:33, 19.08it/s]"
     ]
    },
    {
     "name": "stdout",
     "output_type": "stream",
     "text": [
      "Plagiarism: temp=0.7,top_k=40\n"
     ]
    },
    {
     "name": "stderr",
     "output_type": "stream",
     "text": [
      " 26%|██▋       | 625/2372 [00:37<01:36, 18.16it/s]"
     ]
    },
    {
     "name": "stdout",
     "output_type": "stream",
     "text": [
      "Plagiarism: temp=0.7,top_k=40\n"
     ]
    },
    {
     "name": "stderr",
     "output_type": "stream",
     "text": [
      " 34%|███▎      | 796/2372 [00:47<01:22, 19.05it/s]"
     ]
    },
    {
     "name": "stdout",
     "output_type": "stream",
     "text": [
      "Plagiarism: rep=1.0225,rep_range=2048,tailfree=0.925,typical=0.85,top_a=0.12,top_p=0.985,temp=0.925,top_k=85\n"
     ]
    },
    {
     "name": "stderr",
     "output_type": "stream",
     "text": [
      " 35%|███▌      | 841/2372 [00:50<01:20, 19.04it/s]"
     ]
    },
    {
     "name": "stdout",
     "output_type": "stream",
     "text": [
      "Plagiarism: rep=1.0225,rep_range=2048,tailfree=0.925,typical=0.85,top_a=0.12,top_p=0.985,temp=0.925,top_k=85\n"
     ]
    },
    {
     "name": "stderr",
     "output_type": "stream",
     "text": [
      " 36%|███▌      | 852/2372 [00:51<01:18, 19.39it/s]"
     ]
    },
    {
     "name": "stdout",
     "output_type": "stream",
     "text": [
      "Plagiarism: temp=0.7,top_k=40\n"
     ]
    },
    {
     "name": "stderr",
     "output_type": "stream",
     "text": [
      " 44%|████▍     | 1049/2372 [01:03<01:12, 18.28it/s]"
     ]
    },
    {
     "name": "stdout",
     "output_type": "stream",
     "text": [
      "Plagiarism: rep=1.0225,rep_range=2048,tailfree=0.925,typical=0.85,top_a=0.12,top_p=0.985,temp=0.925,top_k=85\n"
     ]
    },
    {
     "name": "stderr",
     "output_type": "stream",
     "text": [
      " 44%|████▍     | 1054/2372 [01:03<01:05, 20.02it/s]"
     ]
    },
    {
     "name": "stdout",
     "output_type": "stream",
     "text": [
      "Plagiarism: temp=0.7,top_k=40\n"
     ]
    },
    {
     "name": "stderr",
     "output_type": "stream",
     "text": [
      " 45%|████▌     | 1068/2372 [01:04<01:10, 18.62it/s]"
     ]
    },
    {
     "name": "stdout",
     "output_type": "stream",
     "text": [
      "Plagiarism: temp=0.7,top_k=40\n"
     ]
    },
    {
     "name": "stderr",
     "output_type": "stream",
     "text": [
      " 45%|████▌     | 1073/2372 [01:04<01:04, 20.21it/s]"
     ]
    },
    {
     "name": "stdout",
     "output_type": "stream",
     "text": [
      "Plagiarism: rep=1.0225,rep_range=2048,tailfree=0.925,typical=0.85,top_a=0.12,top_p=0.985,temp=0.925,top_k=85\n"
     ]
    },
    {
     "name": "stderr",
     "output_type": "stream",
     "text": [
      " 47%|████▋     | 1105/2372 [01:06<01:09, 18.14it/s]"
     ]
    },
    {
     "name": "stdout",
     "output_type": "stream",
     "text": [
      "Plagiarism: rep=1.05,rep_range=560,tailfree=0.937,top_a=0.085,typical=0.965,top_p=0.88,temp=1.33\n"
     ]
    },
    {
     "name": "stderr",
     "output_type": "stream",
     "text": [
      " 53%|█████▎    | 1252/2372 [01:15<01:01, 18.26it/s]"
     ]
    },
    {
     "name": "stdout",
     "output_type": "stream",
     "text": [
      "Plagiarism: temp=0.7,top_k=40\n"
     ]
    },
    {
     "name": "stderr",
     "output_type": "stream",
     "text": [
      " 55%|█████▍    | 1293/2372 [01:17<00:58, 18.33it/s]"
     ]
    },
    {
     "name": "stdout",
     "output_type": "stream",
     "text": [
      "Plagiarism: rep=1.05,rep_range=560,tailfree=0.937,top_a=0.085,typical=0.965,top_p=0.88,temp=1.33\n"
     ]
    },
    {
     "name": "stderr",
     "output_type": "stream",
     "text": [
      " 55%|█████▌    | 1305/2372 [01:18<00:50, 21.31it/s]"
     ]
    },
    {
     "name": "stdout",
     "output_type": "stream",
     "text": [
      "Plagiarism: temp=0.7,top_k=40\n",
      "Plagiarism: rep=1.05,rep_range=560,tailfree=0.937,top_a=0.085,typical=0.965,top_p=0.88,temp=1.33\n"
     ]
    },
    {
     "name": "stderr",
     "output_type": "stream",
     "text": [
      " 56%|█████▌    | 1325/2372 [01:19<00:57, 18.36it/s]"
     ]
    },
    {
     "name": "stdout",
     "output_type": "stream",
     "text": [
      "Plagiarism: temp=0.7,top_k=40\n"
     ]
    },
    {
     "name": "stderr",
     "output_type": "stream",
     "text": [
      " 56%|█████▋    | 1338/2372 [01:19<00:53, 19.32it/s]"
     ]
    },
    {
     "name": "stdout",
     "output_type": "stream",
     "text": [
      "Plagiarism: rep=1.0225,rep_range=2048,tailfree=0.925,typical=0.85,top_a=0.12,top_p=0.985,temp=0.925,top_k=85\n"
     ]
    },
    {
     "name": "stderr",
     "output_type": "stream",
     "text": [
      " 57%|█████▋    | 1351/2372 [01:20<00:52, 19.39it/s]"
     ]
    },
    {
     "name": "stdout",
     "output_type": "stream",
     "text": [
      "Plagiarism: temp=0.7,top_k=40\n"
     ]
    },
    {
     "name": "stderr",
     "output_type": "stream",
     "text": [
      " 61%|██████    | 1438/2372 [01:25<00:49, 19.05it/s]"
     ]
    },
    {
     "name": "stdout",
     "output_type": "stream",
     "text": [
      "Plagiarism: temp=0.7,top_k=40\n",
      "Plagiarism: temp=0.7,top_k=40\n"
     ]
    },
    {
     "name": "stderr",
     "output_type": "stream",
     "text": [
      " 61%|██████▏   | 1457/2372 [01:26<00:49, 18.42it/s]"
     ]
    },
    {
     "name": "stdout",
     "output_type": "stream",
     "text": [
      "Plagiarism: rep=1.05,rep_range=560,tailfree=0.937,top_a=0.085,typical=0.965,top_p=0.88,temp=1.33\n"
     ]
    },
    {
     "name": "stderr",
     "output_type": "stream",
     "text": [
      " 62%|██████▏   | 1474/2372 [01:27<00:48, 18.38it/s]"
     ]
    },
    {
     "name": "stdout",
     "output_type": "stream",
     "text": [
      "Plagiarism: temp=0.7,top_k=40\n"
     ]
    },
    {
     "name": "stderr",
     "output_type": "stream",
     "text": [
      " 68%|██████▊   | 1609/2372 [01:35<00:41, 18.45it/s]"
     ]
    },
    {
     "name": "stdout",
     "output_type": "stream",
     "text": [
      "Plagiarism: rep=1.05,rep_range=560,tailfree=0.937,top_a=0.085,typical=0.965,top_p=0.88,temp=1.33\n"
     ]
    },
    {
     "name": "stderr",
     "output_type": "stream",
     "text": [
      " 71%|███████   | 1684/2372 [01:40<00:37, 18.33it/s]"
     ]
    },
    {
     "name": "stdout",
     "output_type": "stream",
     "text": [
      "Plagiarism: temp=0.7,top_k=40\n"
     ]
    },
    {
     "name": "stderr",
     "output_type": "stream",
     "text": [
      " 74%|███████▍  | 1751/2372 [01:44<00:32, 19.05it/s]"
     ]
    },
    {
     "name": "stdout",
     "output_type": "stream",
     "text": [
      "Plagiarism: rep=1.05,rep_range=560,tailfree=0.937,top_a=0.085,typical=0.965,top_p=0.88,temp=1.33\n"
     ]
    },
    {
     "name": "stderr",
     "output_type": "stream",
     "text": [
      " 78%|███████▊  | 1844/2372 [01:49<00:28, 18.37it/s]"
     ]
    },
    {
     "name": "stdout",
     "output_type": "stream",
     "text": [
      "Plagiarism: rep=1.0225,rep_range=2048,tailfree=0.925,typical=0.85,top_a=0.12,top_p=0.985,temp=0.925,top_k=85\n"
     ]
    },
    {
     "name": "stderr",
     "output_type": "stream",
     "text": [
      " 83%|████████▎ | 1957/2372 [01:56<00:22, 18.35it/s]"
     ]
    },
    {
     "name": "stdout",
     "output_type": "stream",
     "text": [
      "Plagiarism: temp=0.7,top_k=40\n"
     ]
    },
    {
     "name": "stderr",
     "output_type": "stream",
     "text": [
      " 88%|████████▊ | 2086/2372 [02:04<00:15, 18.69it/s]"
     ]
    },
    {
     "name": "stdout",
     "output_type": "stream",
     "text": [
      "Plagiarism: temp=0.7,top_k=40\n"
     ]
    },
    {
     "name": "stderr",
     "output_type": "stream",
     "text": [
      " 89%|████████▊ | 2101/2372 [02:05<00:14, 18.46it/s]"
     ]
    },
    {
     "name": "stdout",
     "output_type": "stream",
     "text": [
      "Plagiarism: temp=0.7,top_k=40\n"
     ]
    },
    {
     "name": "stderr",
     "output_type": "stream",
     "text": [
      " 89%|████████▉ | 2110/2372 [02:05<00:13, 18.81it/s]"
     ]
    },
    {
     "name": "stdout",
     "output_type": "stream",
     "text": [
      "Plagiarism: rep=1.05,rep_range=560,tailfree=0.937,top_a=0.085,typical=0.965,top_p=0.88,temp=1.33\n"
     ]
    },
    {
     "name": "stderr",
     "output_type": "stream",
     "text": [
      " 89%|████████▉ | 2121/2372 [02:06<00:13, 18.63it/s]"
     ]
    },
    {
     "name": "stdout",
     "output_type": "stream",
     "text": [
      "Plagiarism: temp=0.7,top_k=40\n"
     ]
    },
    {
     "name": "stderr",
     "output_type": "stream",
     "text": [
      " 90%|█████████ | 2146/2372 [02:07<00:12, 18.36it/s]"
     ]
    },
    {
     "name": "stdout",
     "output_type": "stream",
     "text": [
      "Plagiarism: temp=0.7,top_k=40\n"
     ]
    },
    {
     "name": "stderr",
     "output_type": "stream",
     "text": [
      " 93%|█████████▎| 2203/2372 [02:11<00:08, 18.96it/s]"
     ]
    },
    {
     "name": "stdout",
     "output_type": "stream",
     "text": [
      "Plagiarism: rep=1.05,rep_range=560,tailfree=0.937,top_a=0.085,typical=0.965,top_p=0.88,temp=1.33\n"
     ]
    },
    {
     "name": "stderr",
     "output_type": "stream",
     "text": [
      " 94%|█████████▍| 2229/2372 [02:12<00:06, 21.57it/s]"
     ]
    },
    {
     "name": "stdout",
     "output_type": "stream",
     "text": [
      "Plagiarism: rep=1.05,rep_range=560,tailfree=0.937,top_a=0.085,typical=0.965,top_p=0.88,temp=1.33\n",
      "Plagiarism: rep=1.05,rep_range=560,tailfree=0.937,top_a=0.085,typical=0.965,top_p=0.88,temp=1.33\n"
     ]
    },
    {
     "name": "stderr",
     "output_type": "stream",
     "text": [
      " 95%|█████████▍| 2250/2372 [02:13<00:06, 18.63it/s]"
     ]
    },
    {
     "name": "stdout",
     "output_type": "stream",
     "text": [
      "Plagiarism: temp=0.7,top_k=40\n"
     ]
    },
    {
     "name": "stderr",
     "output_type": "stream",
     "text": [
      "100%|██████████| 2372/2372 [02:21<00:00, 16.80it/s]\n"
     ]
    }
   ],
   "source": [
    "# Generate a bunch of samples for A-B testing\n",
    "real_titles = [title for title in titles if token_length(title) <= 32]\n",
    "real_titles_lower = set(title.lower() for title in real_titles)\n",
    "generated_titles = []\n",
    "\n",
    "with open(\"generated_titles.txt\", \"r\") as f:\n",
    "\tfor line in f:\n",
    "\t\tx = line.index(\",title=\")\n",
    "\t\tfilter = line[:x]\n",
    "\t\ttitle = line[x+7:].strip()\n",
    "\t\tgenerated_titles.append((filter, title))\n",
    "\n",
    "n_filters = len(set(filter for filter,_ in generated_titles))\n",
    "avg = len(generated_titles) // n_filters\n",
    "print(f\"Average titles per filter: {avg}\")\n",
    "\n",
    "possible_titles = [(\"real\",title) for title in random.sample(real_titles, avg)] + generated_titles\n",
    "\n",
    "s = requests.Session()\n",
    "retries = Retry(total=10, backoff_factor=0.1, status_forcelist=[ 500, 502, 503, 504 ])\n",
    "s.mount('https://', HTTPAdapter(max_retries=retries))\n",
    "\n",
    "for filter,title in tqdm(possible_titles):\n",
    "\t# Filter out plagiarism\n",
    "\tif filter != 'real' and title.lower() in real_titles_lower:\n",
    "\t\tprint(f\"Plagiarism: {filter}\")\n",
    "\t\tcontinue\n",
    "\n",
    "\tother_title = None\n",
    "\twhile other_title is None:\n",
    "\t\tother_filter,other_title = random.choice(possible_titles)\n",
    "\t\tif other_title.lower() == title.lower():\n",
    "\t\t\tother_title = None\n",
    "\t\n",
    "\tresp = s.post(f\"{AB_TESTER_URL}project/new_sample\", headers={ \"Authorization\": f\"Bearer {project_admin_token}\" }, json={\n",
    "\t\t\"project\": project_id,\n",
    "\t\t\"text1\": title,\n",
    "\t\t\"text2\": other_title,\n",
    "\t\t\"source1\": filter,\n",
    "\t\t\"source2\": other_filter,\n",
    "\t})\n",
    "\tresp.raise_for_status()\n"
   ]
  },
  {
   "cell_type": "code",
   "execution_count": 149,
   "metadata": {},
   "outputs": [
    {
     "name": "stdout",
     "output_type": "stream",
     "text": [
      "1915\n",
      "2335\n"
     ]
    }
   ],
   "source": [
    "resp = requests.get(f\"{AB_TESTER_URL}project/get_ratings\", headers={ \"Authorization\": f\"Bearer {project_id}\" })\n",
    "resp.raise_for_status()\n",
    "ratings = resp.json()\n",
    "print(len(ratings))\n",
    "\n",
    "resp = requests.get(f\"{AB_TESTER_URL}project/get_samples\", headers={ \"Authorization\": f\"Bearer {project_id}\" })\n",
    "resp.raise_for_status()\n",
    "samples = resp.json()\n",
    "print(len(samples))\n",
    "samples = { sample['id']: sample for sample in samples}\n"
   ]
  },
  {
   "cell_type": "code",
   "execution_count": 93,
   "metadata": {},
   "outputs": [],
   "source": [
    "pairs = {}\n",
    "\n",
    "for rating in ratings:\n",
    "\tsample = samples[rating['sample_id']]\n",
    "\tpair = (sample['source1'], sample['source2'])\n",
    "\tvalue = [1, 0] if rating['rating'] == 0 else [0, 1]\n",
    "\n",
    "\tif pair[1] < pair[0]:\n",
    "\t\tpair = (pair[1], pair[0])\n",
    "\t\tvalue = [value[1], value[0]]\n",
    "\t\n",
    "\tif pair not in pairs:\n",
    "\t\tpairs[pair] = value\n",
    "\telse:\n",
    "\t\tpairs[pair][0] += value[0]\n",
    "\t\tpairs[pair][1] += value[1]\n"
   ]
  },
  {
   "cell_type": "code",
   "execution_count": 101,
   "metadata": {},
   "outputs": [
    {
     "name": "stdout",
     "output_type": "stream",
     "text": [
      "temp=0.7,top_k=40:\n",
      "\ttemp=0.7,top_k=40: [10, 10] (50.00%)\n",
      "\trep=1.05,rep_range=560,tailfree=0.937,top_a=0.085,typical=0.965,top_p=0.88,temp=1.33: [32, 14] (69.57%)\n",
      "\trep=1.0225,rep_range=2048,tailfree=0.925,typical=0.85,top_a=0.12,top_p=0.985,temp=0.925,top_k=85: [13, 39] (25.00%)\n",
      "\trep=1.05,rep_range=560,temp=0.7,top_k=40: [25, 11] (69.44%)\n",
      "\treal: [30, 13] (69.77%)\n",
      "\n",
      "rep=1.05,rep_range=560,tailfree=0.937,top_a=0.085,typical=0.965,top_p=0.88,temp=1.33:\n",
      "\ttemp=0.7,top_k=40: [14, 32] (30.43%)\n",
      "\trep=1.05,rep_range=560,tailfree=0.937,top_a=0.085,typical=0.965,top_p=0.88,temp=1.33: [9, 4] (69.23%)\n",
      "\trep=1.0225,rep_range=2048,tailfree=0.925,typical=0.85,top_a=0.12,top_p=0.985,temp=0.925,top_k=85: [12, 33] (26.67%)\n",
      "\trep=1.05,rep_range=560,temp=0.7,top_k=40: [11, 17] (39.29%)\n",
      "\treal: [22, 18] (55.00%)\n",
      "\n",
      "rep=1.0225,rep_range=2048,tailfree=0.925,typical=0.85,top_a=0.12,top_p=0.985,temp=0.925,top_k=85:\n",
      "\ttemp=0.7,top_k=40: [39, 13] (75.00%)\n",
      "\trep=1.05,rep_range=560,tailfree=0.937,top_a=0.085,typical=0.965,top_p=0.88,temp=1.33: [33, 12] (73.33%)\n",
      "\trep=1.0225,rep_range=2048,tailfree=0.925,typical=0.85,top_a=0.12,top_p=0.985,temp=0.925,top_k=85: [14, 12] (53.85%)\n",
      "\trep=1.05,rep_range=560,temp=0.7,top_k=40: [40, 11] (78.43%)\n",
      "\treal: [42, 19] (68.85%)\n",
      "\n",
      "rep=1.05,rep_range=560,temp=0.7,top_k=40:\n",
      "\ttemp=0.7,top_k=40: [11, 25] (30.56%)\n",
      "\trep=1.05,rep_range=560,tailfree=0.937,top_a=0.085,typical=0.965,top_p=0.88,temp=1.33: [17, 11] (60.71%)\n",
      "\trep=1.0225,rep_range=2048,tailfree=0.925,typical=0.85,top_a=0.12,top_p=0.985,temp=0.925,top_k=85: [11, 40] (21.57%)\n",
      "\trep=1.05,rep_range=560,temp=0.7,top_k=40: [5, 12] (29.41%)\n",
      "\treal: [21, 18] (53.85%)\n",
      "\n",
      "real:\n",
      "\ttemp=0.7,top_k=40: [13, 30] (30.23%)\n",
      "\trep=1.05,rep_range=560,tailfree=0.937,top_a=0.085,typical=0.965,top_p=0.88,temp=1.33: [18, 22] (45.00%)\n",
      "\trep=1.0225,rep_range=2048,tailfree=0.925,typical=0.85,top_a=0.12,top_p=0.985,temp=0.925,top_k=85: [19, 42] (31.15%)\n",
      "\trep=1.05,rep_range=560,temp=0.7,top_k=40: [18, 21] (46.15%)\n",
      "\treal: [6, 16] (27.27%)\n",
      "\n"
     ]
    }
   ],
   "source": [
    "filter_names = list(title_filter_combinations.keys()) + ['real']\n",
    "\n",
    "for filter in filter_names:\n",
    "\tprint(f\"{filter}:\")\n",
    "\n",
    "\tfor other_filter in filter_names:\n",
    "\t\tpair = (filter, other_filter)\n",
    "\t\tflipped = False\n",
    "\t\tif pair[1] < pair[0]:\n",
    "\t\t\tpair = (pair[1], pair[0])\n",
    "\t\t\tflipped = True\n",
    "\t\t\n",
    "\t\tif pair in pairs:\n",
    "\t\t\tvalue = pairs[pair]\n",
    "\t\t\tif flipped:\n",
    "\t\t\t\tvalue = [value[1], value[0]]\n",
    "\t\t\tprint(f\"\\t{other_filter}: {value} ({100 * value[0] / (value[0] + value[1]):.2f}%)\")\n",
    "\t\telse:\n",
    "\t\t\tprint(f\"\\t{other_filter}: NO DATA\")\n",
    "\t\n",
    "\tprint()"
   ]
  },
  {
   "cell_type": "markdown",
   "metadata": {},
   "source": [
    "Reverie BETTER THAN Big dumb\n",
    "Reverie BETTER THAN Blue Lighter\n",
    "Reverie BETTER THAN Big dumb\n",
    "Reverie BETTER THAN Blue Lighter\n",
    "Reverie BETTER THAN Less dumb\n",
    "Reverie BETTER THAN Less dumb\n",
    "\n",
    "\n"
   ]
  },
  {
   "cell_type": "code",
   "execution_count": 110,
   "metadata": {},
   "outputs": [
    {
     "name": "stdout",
     "output_type": "stream",
     "text": [
      "Reverie: The Chronicles of the Schönberg Family, etc\n",
      "Reverie: The Origin of Species by means of Natural Selection, or the Preservation of favoured races in the struggle for life\n",
      "Reverie: The Deacon's Masterpiece. A novel\n",
      "Reverie: The Early Italian Poets\n",
      "Reverie: Leaves from the Journal of a Residence in Spain. In the years 1828-1829\n",
      "Reverie: A Child of the Sea. A story\n",
      "Blue Lighter: A Midsummer Ramble among the Hills about Richmond and Charlottesville, Va., during August, 1860\n",
      "Reverie: The American Woman's Home; or, Principles of Domestic Science applied to the various duties of the household\n",
      "Reverie: The Oaks of Mamre\n",
      "Blue Lighter: Blaenau Festiniog: its history, antiquities, topography, inhabitants, trade, manufactures, &c., illustrated by numerous engravings\n",
      "Reverie: The Heroines of Shakespeare's Plays\n",
      "Blue Lighter: The Narrative of Arthur Gordon Pym .... New edition\n",
      "Blue Lighter: Pictures of Travel, for Young People's Reading\n",
      "Reverie: The Little Book of Italy\n",
      "Blue Lighter: Folk Songs of Scotland, collected by Francis Collinson\n",
      "Reverie: The Life of the Rev. G. W. Cox, M.A., late Head Master of Rugby School\n",
      "Reverie: The Young Rajah\n",
      "Blue Lighter: Scotland under her Early Kings. From authentic records compiled chiefly from original sources\n",
      "Blue Lighter: Friends in Council; or, Diversions at Home and Abroad\n",
      "Blue Lighter: Landscape Studies: chiefly on the banks of the Thames\n",
      "Reverie: The American Woman's Home; or, Principles of Domestic Science applied to the various duties of the household\n",
      "Reverie: The Devil's Bridge: a legend of St. Killian. By W. Carleton\n",
      "Reverie: The Old Vicarage, Grantchester\n",
      "Blue Lighter: Historical Sketches of Thessaly and Macedonia... From personal observation during visits made between 1850 and 1867\n",
      "Reverie: The Excursion. Part 1\n",
      "Blue Lighter: Travels through Germany, Italy, Switzerland, France, England, Scotland, &c., during 1831-'32\n",
      "Blue Lighter: Leaves from my Journal kept between 1852 and 1861\n",
      "Reverie: The History of the Borough of King's Lynn. From the earliest period to the present time\n",
      "Reverie: The Young Rajah\n",
      "Reverie: The Story of the Heidelberg Catechism\n",
      "Blue Lighter: Scotland under her Early Kings. From authentic records compiled chiefly from original sources\n",
      "Reverie: The Life of the Rev. G. W. Cox, M.A., late Head Master of Rugby School\n",
      "Reverie: The Picture Gallery of the Kings of England\n",
      "Blue Lighter: Poetry for Children: selected chiefly from the Greek classics with notes\n",
      "Reverie: The Mysterious Island. A romantic narrative\n",
      "Blue Lighter: The Modern Drama, illustrated, chiefly under literary aspects\n",
      "Reverie: The Marquis of Anglesey: a tragedy in five acts\n",
      "Reverie: A Child of the Sea. A story\n",
      "Reverie: A Short History of the Jews\n",
      "Reverie: The Black Eagle of Germany. A historical romance\n",
      "Reverie: The Little Book of Italy\n",
      "Blue Lighter: Voyage dans les Pyrénées occidentales [With maps and engravings.]\n",
      "Reverie: The Heir of Linne. A Tale of the Dark Ages\n",
      "Reverie: The History of the Life of Thomas Jefferson, third President of the United States\n",
      "Blue Lighter: Diary of a Residence on the coast of Guinea during part of the years 1845-1847\n",
      "Reverie: The Man who died for love\n",
      "Reverie: The Church of Christ: a poem\n",
      "Blue Lighter: Childe Harold's Pilgrimage. An abridged edition with introduction, explanatory remarks, &c., etc\n",
      "Reverie: The Poetical Works of Robert Browning, with a memoir and bibliography\n",
      "Blue Lighter: Zur Geschichte des Kriegswunders von 1637\n",
      "Blue Lighter: What I saw when walking through Ireland; being notes made during three months spent there\n",
      "Blue Lighter: Modern German Literature. Translated by J. W. Morkill\n",
      "Reverie: The Life of Marie Antoinette ... From the French of Madame Campan, etc\n",
      "Blue Lighter: To My Booksellers\n",
      "Reverie: The Spectator\n",
      "Blue Lighter: Tales from Shakspeare [Illustrations after Flaxman]. With notes\n",
      "Reverie: The Rise and Progress of the Dutch Republic [From the English translation by Sir Henry Clinton.]\n",
      "Reverie: The Excursion. Part 1\n",
      "Blue Lighter: Life at home: being family records during half a century\n",
      "Reverie: The Indian Muse in English Garb [Poems.]\n",
      "Blue Lighter: Proverbs, Maxims, &c., collected out of various authors\n",
      "Reverie: The King's Highway. A novel\n",
      "Blue Lighter: Boswelliana; or Life of Samuel Johnson, LL.D., including an account of his visit to the Hebrides in 1773\n",
      "Blue Lighter: Königsberg: its history and antiquities\n",
      "Reverie: The Last Days of Pompeii, and other poems\n",
      "Blue Lighter: Poems chiefly from French sources; with notes critical and explanatory\n",
      "Reverie: The Poetical Works of Henry Kirke White, D.D., late President of Dickinson College. With biographical sketch by Joseph S. Woodward\n",
      "Blue Lighter: Wanderings among the Highlands and Islands of Scotland with recollections of Edinburgh\n",
      "Reverie: The Pilgrim's Progress; edited from the original manuscript by Charles T. Brooks\n",
      "Reverie: The Courtship of Rosamond. A novel\n",
      "Reverie: A series of popular lectures on the science of government, delivered before the Mechanics' Institute, Glasgow\n",
      "Blue Lighter: Old Glory, an illustrated satire\n",
      "Reverie: The Three Maidens\n",
      "Blue Lighter: Great Britain under Gladstone 1880-1884\n",
      "Blue Lighter: Conversations about Art\n",
      "Reverie: The Irishman's Diary: a record of social, political, and religious events during the year 1865\n",
      "Blue Lighter: Essays on History & Biography\n",
      "Blue Lighter: Adventures at Home and Abroad; being the experiences of Mrs. Seymour during two years spent abroad\n",
      "Reverie: The Irishman's Diary: a record of social, political, and religious events during the year 1865\n",
      "Blue Lighter: Enigmas\n",
      "Reverie: The Italian Renaissance in its relation to art, literature and society\n",
      "Reverie: The Wild Duck, and other poems\n",
      "Reverie: The Poetical Works of Henry Kirke White, D.D., late President of Dickinson College. With biographical sketch by Joseph S. Woodward\n",
      "Blue Lighter: Glimpses into the Past\n",
      "Reverie: The Irishman in London\n",
      "Blue Lighter: Confessions of a Drunkard. From the French of Jules Janin\n",
      "Reverie: The Reign of Law, and other poems\n",
      "Reverie: The Passionate Pilgrim\n",
      "Reverie: The Wreck of the Golden Mary. A novel\n",
      "Reverie: The Lady of the Manor\n",
      "Blue Lighter: Napoleon Bonaparte as he appeared during the Hundred Days after Waterloo\n",
      "Reverie: The Autobiography of John Keats\n",
      "Reverie: The Wife's Revenge. A comedy\n",
      "Reverie: The Pilgrim's Progress, abridged from the larger work, with notes, by R. Amos\n",
      "Reverie: The Chronicles of Carlingford\n",
      "Reverie: The life of Florence Nightingale, written by herself\n",
      "Reverie: The Way of all Flesh\n",
      "Reverie: The Children of the Abbey: a tale\n",
      "Blue Lighter: Stories from Shakspeare. Newly arranged for juvenile readers. First series\n",
      "Reverie: The Iron Game. A novel\n",
      "Blue Lighter: Literary Remains of Robert Southey. Edited by R. S. Thomas\n",
      "Reverie: The Prince of Wales's Letters to the People of the United States. Addressed to the people of the United States, etc\n",
      "Blue Lighter: Couriers d'Afrique\n",
      "Blue Lighter: Confessions of a Drunkard. From the French of Jules Janin\n",
      "Reverie: The Life of Henry Martyn, missionary to India. A memoir by his sister, Mrs. Sherwood\n",
      "Blue Lighter: Sketches of Character and Caricature Illustrations to \"Don Quixote\"\n",
      "Reverie: The Heir of Linne. A Tale of the Dark Ages\n",
      "Blue Lighter: Sicily and Southern Italy. The work of Frederick Denison Maurice (new ed.)\n",
      "Reverie: A series of popular lectures on the science of government, delivered before the Mechanics' Institute, Glasgow\n",
      "Reverie: The Three Musketeers; a translation into blank verse\n",
      "Reverie: Agnes Grey; or, My life is like the Summer Rose\n",
      "Reverie: The Two Virgins, and other tales\n",
      "Blue Lighter: Leaves From My Notebook. Verses\n",
      "Reverie: The True Story of my Life: including a narrative of my captivity among the Indians\n",
      "Blue Lighter: Eminent Men I Have Known. Biographical sketches selected from 'English Worthies,' etc., by Rev. Edward Caswall\n",
      "Reverie: The Little Book of Italy\n",
      "Reverie: The Earthly Paradise; or, Pictures from a Surreptitious Exhibition. By Edward FitzGerald\n",
      "Blue Lighter: Picturesque Guide through East Anglia\n",
      "Reverie: The Wreck of the 'Deutschland'; with a narrative of her loss and rescue, etc\n",
      "Blue Lighter: Outlines of British History from Julius Caesar to James II., illustrated\n",
      "Reverie: The Man who left off Eating Meat, and other Tales\n",
      "Blue Lighter: An Essay on Comparative Theology, being also a brief outline of comparative mythology. Second edition\n",
      "Reverie: The Queen's Quair [A poem.]\n",
      "Blue Lighter: Kurhaus des Bayerischen Ritterschaften zu Munich\n",
      "Reverie: The Lost Fortune\n",
      "Blue Lighter: Travels through Germany, Italy, Switzerland, France, England, Scotland, &c., during 1831-'32\n",
      "Blue Lighter: Memoirs of John Murray, Esq., founder of the London Review. Second series\n",
      "Reverie: The Battle of the Boyne: an historical drama\n",
      "Blue Lighter: Wanderings among the Indians of Guiana (on board H.M.S. 'Blonde')\n",
      "Reverie: The Household of Sir Thos. More. From the MSS. of Lord Clarendon\n",
      "Blue Lighter: Sicily and Southern Italy. The work of Frederick Denison Maurice (new ed.)\n",
      "Reverie: The Poetical Works of Lord Byron. Edited by his sister Augusta Leigh. [Illustrated.]\n",
      "Reverie: The New Zealander: a colonial sketch\n",
      "Reverie: The Life of the Rev. G. W. Cox, M.A., late Head Master of Rugby School\n",
      "Blue Lighter: The Landlord at the Plough & Other Poems\n",
      "Blue Lighter: Folk Songs of Scotland, collected by Francis Collinson\n",
      "Blue Lighter: Love Conquers All; or, True Lovers never part\n",
      "Reverie: The Royal Edinburgh Military Asylum, etc\n",
      "Blue Lighter: Folk Tales of Roumania and Transylvania\n",
      "Reverie: The Family Bible: a collection of genealogical tables, biographical notices, and anecdotes of distinguished persons, illustrated with portraits\n",
      "Reverie: A Visit to the Zoo\n",
      "Blue Lighter: Through Japan with a Kodak [With maps and plates.]\n",
      "Reverie: The Man of Business, and other tales. By Captain Marryat\n",
      "Reverie: The Adventures of Sir Richard Whittington. Illustrated\n",
      "Reverie: A Visit to the Catacombs of Rome. With descriptions of the various objects of interest contained in them\n",
      "Reverie: The Young Rajah\n",
      "Blue Lighter: [Buchstabenspuren:] The Grand Chartist Trial at York\n",
      "Blue Lighter: New Zealand Illustrated (2nd series)\n",
      "Reverie: The Three Maidens\n",
      "Blue Lighter: New Zealand Illustrated (2nd series)\n",
      "Reverie: The Adventures of a Lady. A novel\n",
      "Blue Lighter: From Jena to Paris (1870)\n",
      "Reverie: The Land of the Incas\n",
      "Blue Lighter: [Buchstabenspuren:] The Grand Chartist Trial at York\n",
      "Reverie: The Swiss Family Robinson\n",
      "Blue Lighter: Gleanings from an Artist's Portfolio\n",
      "Blue Lighter: Essays in Political Economy [By F. W. Newman]. Edited by Charles Gide\n",
      "Blue Lighter: Fortunes made at Home: being anecdotes illustrative of English character, etc\n",
      "Reverie: The Old Maid's Ballad Book\n",
      "Reverie: A Visit to the Zoo\n",
      "Reverie: The Queen's Quair [A poem.]\n",
      "Reverie: The Woman Question. An essay\n",
      "Reverie: The Autobiography of Mrs. Elizabeth Smith Shaw [Written by herself.]\n",
      "Reverie: A Plea for the Abolition of Capital Punishment\n",
      "Blue Lighter: Recollections of Lady Blessington\n",
      "Reverie: The Woman Question. An essay\n",
      "Reverie: The Early Italian Poets\n",
      "Reverie: The Sorrows of Werther\n",
      "Reverie: The Temptation of Saint Anthony. A drama [In three acts]. By Thomas Taylor\n",
      "Blue Lighter: Oceanica, its Islands and People. By William MacGillivray\n",
      "Reverie: The Spectator\n",
      "Reverie: The Battle of Maldon\n",
      "Blue Lighter: In my Fatherland [From German original.] Translated into English by G. F. Monkshood\n",
      "Reverie: The Red Silk Ribbon. A novel\n",
      "Reverie: The Battle of Maldon\n",
      "Reverie: The Wife's Revenge. A comedy\n",
      "Reverie: The Passionate Pilgrim\n",
      "Blue Lighter: When I was a boy at school, and other stories from 'Blackwood'\n",
      "Reverie: The Rival Daughters. A Novel\n",
      "Reverie: The Lady's Magazine, or Beauties of British Poetry [With engravings after Thomas Stothard.]\n",
      "Blue Lighter: Memoirs of Mrs. Elizabeth Carter. Written by herself\n",
      "Reverie: The Queen's Spies. A romance of the Reign of Elizabeth\n",
      "Reverie: The New Zealanders in London\n",
      "Reverie: The Queen's Quair [A poem.]\n",
      "Reverie: The Little Orphan. A Christmas story\n",
      "Reverie: The Iron Game. A novel\n",
      "Blue Lighter: Essays on History & Biography\n",
      "Blue Lighter: The Adopted Child: being a sequel to 'Two Years ago'\n",
      "Reverie: A Novel. In three volumes\n",
      "Reverie: The Clouds that are so lofty, and yet so low\n",
      "Blue Lighter: Ancient Egypt under the Pharaohs; being the results of recent explorations conducted with special reference to their bearing upon Egyptian civilization as a whole\n",
      "Reverie: The Collected Works of Robert Burns, comprising all his poems, songs, satires, letters, etc\n",
      "Blue Lighter: Memoirs of William Wordsworth. Edited by his nephew, John Wordsworth\n",
      "Reverie: The Church of Christ: a poem\n",
      "Reverie: A Visit to the Catacombs of Rome. With descriptions of the various objects of interest contained in them\n",
      "Reverie: The Spirit of the Age\n",
      "Blue Lighter: Memoirs of Madame d'Arblay: including her Correspondence, Diaries, &c., together with many unpublished Letters written by Her Friends\n",
      "Reverie: The Story of a Round Tower\n",
      "Reverie: The Sea-Kings of Norway. A book of travel\n",
      "Blue Lighter: Lectures on Modern History. Comprising also an account of English history during the same period\n",
      "Reverie: The Battle of Waterloo: a poem\n",
      "Reverie: The Poetical Works of Sir Walter Scott. Including \"The Lord of the Isles,\" \"The Lay of the Last Minstrel,\" etc\n",
      "Reverie: The Conquest of Mexico\n",
      "Blue Lighter: Autobiography of Samuel Rogers\n",
      "Reverie: The Heroines of Shakespeare's Plays\n",
      "Blue Lighter: Cicero de Officiis Divinatricibus Libri Sex [In Latin.]\n",
      "Reverie: The Clergy of the Diocese of York, from the earliest period to the present time\n",
      "Reverie: The American Seaman; or, The Young Man's Own Book\n",
      "Blue Lighter: Chronicles of Charlecote Park. With illustrations\n",
      "Reverie: The Life of Marie Antoinette ... From the French of Madame Campan, etc\n",
      "Reverie: The History of the Town of Marlow, in the County of Buckingham, from the earliest period to the present time. By William Marshall\n",
      "Blue Lighter: Reminiscences of General Grant, as related during his residence in Scotland, 1860-1865\n",
      "Reverie: A Christmas Carol. By Charles Dickens [Reproduced in facsimile from the first English edition of 1843.]\n",
      "Reverie: The True Story of a Life. A Novel\n",
      "Blue Lighter: Poems chiefly from French sources; with notes critical and explanatory\n",
      "Reverie: The Chronicles of the Schönberg Family, etc\n",
      "Reverie: The Courtship of Rosamond. A novel\n",
      "Reverie: The Vicar of Wakefield\n",
      "Blue Lighter: Cranford: being incidents in the lives of the inhabitants of Cranford during ten years\n",
      "Blue Lighter: Boswelliana; or Life of Samuel Johnson, LL.D., including an account of his visit to the Hebrides in 1773\n",
      "Reverie: The Man of Feeling\n",
      "Blue Lighter: Jottings out of my Life; being recollections chiefly personal. By Thomas Holcroft. Edited with an introduction by William Archer. Second series\n",
      "Reverie: The Spiritual Magazine, edited by the late Samuel Lawrence\n",
      "Blue Lighter: Eastern Travels; including visits to Ceylon, Burmah, Siam, Java, China, &c., 1853-1855\n",
      "Blue Lighter: Religionsgeschichtliche Untersuchungen über das Leben Jesu Christi nach den Zeugnissen neutestamentlichen Evangeliums\n",
      "Blue Lighter: La vida en el campo\n",
      "Reverie: The Maid of Kent. A romance\n",
      "Blue Lighter: Gretchen's Room\n",
      "Blue Lighter: Diary of a Residence on the coast of Guinea during part of the years 1845-1847\n",
      "Blue Lighter: Life on the Mississippi\n",
      "Reverie: The Exile's Return, a poem\n",
      "Blue Lighter: The Influence of Literature upon Society\n",
      "Reverie: The Pipes o' Pan\n",
      "Reverie: The Sea of Ice. A romance\n",
      "Reverie: The Rise of the Dutch Republic. Translated from the original Latin of Motley, by J. W. D.\n",
      "Blue Lighter: Voyages dans le Grand Ouest et aux Indes occidentales par une société d'Américains\n",
      "Blue Lighter: Diary of an Officer during his Service at Woolwich Arsenal 1878-'82\n",
      "Blue Lighter: Thalaba the Destroyer (from the Arabian Nights)\n",
      "Reverie: The Homeward Bound. A tale of the Pacific Ocean\n",
      "Blue Lighter: Little Folks' History of England for Boys and Girls (1846)\n",
      "Blue Lighter: John Gilpin's Ride\n",
      "Reverie: The Journal of a Residence among the Mormons in Utah Territory\n",
      "Reverie: The Rise and Progress of the Dutch Republic [From the English translation by Sir Henry Clinton.]\n",
      "Reverie: The Iron Game. A novel\n",
      "Blue Lighter: Chronicle of Queen Jane and King Henry VIII. From contemporary sources compiled under royal authority\n",
      "Reverie: The Courtship of Rosamond. A novel\n",
      "Blue Lighter: Wanderings among the Alps ... In two volumes. Vol 1 (the first volume) contains his account of the ascent of Mont Blanc, &c\n",
      "Reverie: The Pilgrim's Progress; edited from the original manuscript by Charles T. Brooks\n",
      "Blue Lighter: Oliver Twist\n",
      "Blue Lighter: Hymns Ancient and Modern\n",
      "Blue Lighter: Farewell! The last words of Arthur Ewelme... Before his execution at Tyburn\n",
      "Reverie: The Fate of the Forest [A novel.]\n",
      "Reverie: The Heroines of Shakespeare's Plays\n",
      "Blue Lighter: Cicero de Officiis Divinatricibus Libri Sex [In Latin.]\n",
      "Reverie: The New Zealander: a colonial sketch\n",
      "Blue Lighter: Folk Songs of Scotland, collected by Francis Collinson\n",
      "Reverie: The Temptation of Saint Anthony. A drama [In three acts]. By Thomas Taylor\n",
      "Blue Lighter: Gleams of Sunshine on Arctic Seas. Being an account of explorations among the islands north of Siberia\n",
      "Reverie: The Adventures of Philip Quarll, Esq., during his residence in the East Indies. Written by himself\n",
      "Blue Lighter: Religious Thoughts at Twenty Years Old. And Other Poems\n",
      "Blue Lighter: The Naturalist at Home. The birds that visit us every summer\n",
      "Reverie: The Royal Academy of Sciences at Stockholm. Its foundation and development\n",
      "Reverie: The Boyhood of Napoleon\n",
      "Reverie: The Passionate Pilgrim\n",
      "Reverie: The American Bible Society, and other charities\n",
      "Blue Lighter: Gleanings from an Artist's Portfolio\n",
      "Reverie: The Autobiography of Mrs. Elizabeth Smith Shaw [Written by herself.]\n",
      "Blue Lighter: Twelve Months at St. Moritz, Switzerland, for 1860-'61\n",
      "Reverie: The Fate of the Forest [A novel.]\n",
      "Blue Lighter: Daughter of Eve. A story for girls\n",
      "Reverie: The Triumph of Love: a lyrical drama\n",
      "Blue Lighter: Tales From Shakespeare, selected with great care as models of pure narrative prose\n",
      "Reverie: The Fate of the Forest [A novel.]\n",
      "Blue Lighter: Mysteries of Udolpho. The Italian version of Mrs. Ann Radcliffe's celebrated romance\n",
      "Reverie: The Works of Robert Burns\n",
      "Blue Lighter: Poems chiefly written during his late visit to Spain (Second series)\n",
      "Reverie: The Romance of War\n",
      "Blue Lighter: Flower Fables, translated from Schiller's 'Gespräche der Liebe,' by Mme. Ricordi\n",
      "Reverie: The Romance of War\n",
      "Reverie: The Passing Show. A novel\n",
      "Reverie: The Schoolmaster's Revenge. A tale of the West Indies\n",
      "Blue Lighter: Great Britain under Gladstone 1880-1884\n",
      "Blue Lighter: Le Baron De Thurn und Taxis ou les moeurs du XIXe siècle à travers un exemple historique\n",
      "Reverie: The Heir of Redclyffe. A novel\n",
      "Blue Lighter: Poems chiefly written during his late visit to Spain (Second series)\n",
      "Blue Lighter: Thoughts suggested during a walk round Richmond Park\n",
      "Blue Lighter: Adventures at Home and Abroad; being the experiences of Mrs. Seymour during two years spent abroad\n",
      "Reverie: The Pilgrim's Progress, abridged from the larger work, with notes, by R. Amos\n",
      "Blue Lighter: Cervantes Saavedra en el siglo XVIII\n",
      "Reverie: The Collected Works of Robert Burns, comprising all his poems, songs, satires, letters, etc\n",
      "Blue Lighter: Memoirs of William Wordsworth. Edited by his nephew, John Wordsworth\n",
      "Reverie: The Three Marriages of Miss Mary Anne Manning. A novel\n",
      "Reverie: The Land of the Incas\n",
      "Blue Lighter: Lecture on Shakspeare delivered before the London Shakespeare Society\n",
      "Reverie: The Spirit of the Age\n",
      "Blue Lighter: Conversations about Art\n",
      "Reverie: The Water-Babies, a Fairy Tale for a Land Baby. By Charles Kingsley\n",
      "Reverie: The Spectacle of Christendom\n",
      "Blue Lighter: Autobiography of Samuel Rogers\n",
      "Reverie: The Courtship of Rosamond. A novel\n",
      "Blue Lighter: Our Own Country\n",
      "Reverie: The Literature of America\n",
      "Reverie: The Life of Henry Martyn, missionary to India. A memoir by his sister, Mrs. Sherwood\n",
      "Blue Lighter: A Midsummer Night's Dream. An adaptation for stage representation (from Shakespeare)\n",
      "Reverie: The Red Mill\n",
      "Blue Lighter: Selections for an Album: including several pieces never before printed\n",
      "Blue Lighter: Scenes at Cintra [By Lady Morgan]. Edited by James Anthony Froude. With new introduction by Robert Arnot\n",
      "Blue Lighter: Cervantes Saavedra en el siglo XVIII\n",
      "Blue Lighter: Rudolph Erich Raspe (1736–1807). Der deutsche Dichter und sein Jahrhundert\n",
      "Reverie: The Man who died for love\n",
      "Blue Lighter: Leaves from my study window; or, My note book for 1873\n",
      "Reverie: The Conquest of Mexico\n",
      "Blue Lighter: Autobiography of Samuel Rogers\n",
      "Reverie: A Few Words on the Royal Academy\n",
      "Blue Lighter: A Midsummer Ramble among the Hills about Richmond and Charlottesville, Va., during August, 1860\n",
      "Reverie: The Lost Ark: a Tale of the Australian Bush\n",
      "Reverie: The Last Days of Pompeii; a tragedy in five acts\n",
      "Reverie: The Wreck of the Golden Mary. A novel\n",
      "Reverie: The Spiritual Magazine, edited by the late Samuel Lawrence\n",
      "Blue Lighter: Ancient Rome under the Monarchy. An epitome of Roman history during the first fifteen centuries after Christ\n",
      "Reverie: The History of the Borough of King's Lynn. From the earliest period to the present time\n",
      "Blue Lighter: Landscape Studies: chiefly on the banks of the Thames\n",
      "Reverie: The Autobiography of Mrs. Elizabeth Smith Shaw [Written by herself.]\n",
      "Blue Lighter: Knight Errantry: an historical romance\n",
      "Blue Lighter: Gleams of Sunshine on Arctic Seas. Being an account of explorations among the islands north of Siberia\n",
      "Blue Lighter: Thoughts for To-day: prose and poetry\n",
      "Blue Lighter: Cape Cod : a summer residence\n",
      "Reverie: The Life of Henry Martyn, missionary to India. A memoir by his sister, Mrs. Sherwood\n",
      "Reverie: The Spirit of the Age\n",
      "Reverie: The Sea-Kings of Norway. A book of travel\n",
      "Blue Lighter: How we live now: studies in modern manners\n",
      "Blue Lighter: My Life as an Indian Savage\n",
      "Reverie: Historical Sketches of the Reign of Frederic II., Emperor of Germany, etc\n",
      "Reverie: The Daughter of St. Mark. A novel\n",
      "Blue Lighter: Toastmaster General, etc\n",
      "Reverie: The Collected Works of the late William Makepeace Thackeray, Esq., in twenty volumes, etc\n",
      "Blue Lighter: Gretchen's Room\n",
      "Reverie: The Three Maidens\n",
      "Reverie: The Exile's Return, a poem\n",
      "Reverie: The Fate of the Rebels [A novel.]\n",
      "Reverie: The Lady's Magazine, or Beauties of British Poetry [With engravings after Thomas Stothard.]\n",
      "Reverie: The Heir of Linne. A Tale of the Dark Ages\n",
      "Blue Lighter: Selections for an Album: including several pieces never before printed\n",
      "Reverie: The Story of the Wild Asses\n",
      "Blue Lighter: La Guerre d'Espagne et ses causes\n",
      "Blue Lighter: Romeo and Juliet; an historical play with notes, prefixed, illustrative of Roman history, customs, &c., and explanatory of the text\n",
      "Reverie: The Last Days of Pompeii, and other poems\n",
      "Reverie: The Life and Correspondence of Lord John Russell, etc\n",
      "Blue Lighter: Sicily and Southern Italy. The work of Frederick Denison Maurice (new ed.)\n",
      "Blue Lighter: Heroines of Fiction\n",
      "Reverie: The Wanderer's Library: a series of books about places, peoples, and things. Edited by J. G. Edgar\n",
      "Reverie: The Kalevala: a national epic of Finland\n",
      "Reverie: The Heir of Redclyffe. A novel\n",
      "Reverie: The Lady of the Lake; a tale of the Highlands\n",
      "Blue Lighter: Behind the Scenes at Drury Lane Theatre. Being an account of some notable theatrical events during the past season, together with numerous anecdotes connected therewith\n",
      "Reverie: The City of the Saints. A novel\n",
      "Reverie: The Works of Robert Burns\n",
      "Reverie: The History of the Borough of King's Lynn. From the earliest period to the present time\n",
      "Reverie: The Heroines of Shakespeare's Plays\n",
      "Blue Lighter: Outlines of Astronomy for Young Persons\n",
      "Blue Lighter: Illustrated Catalogue of Prints at the Fine Art Society's Gallery\n",
      "Reverie: The Literature of America\n",
      "Blue Lighter: [Buchstabenspuren:] The Grand Chartist Trial at York\n",
      "Blue Lighter: Diary of a Residence on the coast of Guinea during part of the years 1845-1847\n",
      "Blue Lighter: Stories from Shakspeare. Newly arranged for juvenile readers. First series\n",
      "Reverie: The Legend of St. Brandan\n",
      "Blue Lighter: Tales From Shakespeare, selected with great care as models of pure narrative prose\n",
      "Blue Lighter: Two Hundred Years Hence: an historical romance\n",
      "Reverie: A Short History of the Jews\n",
      "Reverie: The Exile's Return [A poem.]\n",
      "Blue Lighter: Bustling Boreas! The adventures of Mr. Johnson on his first visit to London [By W. Hone.]\n",
      "Reverie: The Journal of a Residence among the Mormons in Utah Territory\n",
      "Reverie: The Lost Ark: a Tale of the Australian Bush\n",
      "Blue Lighter: Der Weltkrieg von 1914-18 nach den deutschen Quellen bearbeitet... Mit einer Karte des Ersten Weltkrieges\n",
      "Reverie: A Plea for the Abolition of Capital Punishment\n",
      "Blue Lighter: Recollections of Lady Blessington\n",
      "Blue Lighter: Hail! Columbia, happy land!, and other poems\n",
      "Reverie: The Story of a Round Tower\n",
      "Reverie: The Sea of Ice. A romance\n",
      "Reverie: The Revolt of the Netherlands. Translated from the Dutch of J. L. Motley\n",
      "Reverie: The Childhood of Shakespeare\n",
      "Reverie: The Life and Adventures of Michael Armstrong, Esq., late of the Royal Navy. Written by himself\n",
      "Reverie: The Land of the Incas\n",
      "Reverie: The Practical Horseman. A treatise on the diseases and remedies of horses\n",
      "Reverie: The Ballad of the Green Tree. A ballad of the Fenian troubles\n",
      "Reverie: The American Bible Society, and other charities\n",
      "Blue Lighter: Popular Astronomy: an elementary treatise adapted to popular use, being a practical guide to astronomy as applied to navigation\n",
      "Blue Lighter: Kirby Smith's Introduction to Natural Philosophy\n",
      "Reverie: The True Story of a Life. A Novel\n",
      "Reverie: The Gold Hunters, and other stories\n",
      "Blue Lighter: Glimpses of Artistic London [By Thomas Frost]\n",
      "Blue Lighter: The Narrative of Arthur Gordon Pym .... New edition\n",
      "Blue Lighter: Diary of an Officer during his Service at Woolwich Arsenal 1878-'82\n",
      "Reverie: Gleanings from the Harvest-Home: or, a choice selection of verses and songs\n",
      "Reverie: The Italian Renaissance in its relation to art, literature and society\n",
      "Reverie: The Town of Swansborough\n",
      "Blue Lighter: Eminent Men I Have Known. Biographical sketches selected from 'English Worthies,' etc., by Rev. Edward Caswall\n",
      "Reverie: The Journal of Major George Warde [With plates.]\n",
      "Blue Lighter: London Lyrics\n",
      "Blue Lighter: Diary of a Residence on the coast of Guinea during part of the years 1845-1847\n",
      "Blue Lighter: Religionsgeschichtliche Untersuchungen über das Leben Jesu Christi nach den Zeugnissen neutestamentlichen Evangeliums\n",
      "Blue Lighter: La Légende d'Énée : poème lyrique sur le thème des Argonautiques\n",
      "Reverie: The Black Eagle of Germany. A historical romance\n",
      "Blue Lighter: Autobiography of Samuel Rogers\n",
      "Blue Lighter: On Some Passages in Shakespeare\n",
      "Reverie: The Lost Ark: a Tale of the Australian Bush\n",
      "Reverie: The Triumph of Love: a lyrical drama\n"
     ]
    }
   ],
   "source": [
    "for rating in ratings:\n",
    "\tsample = samples[rating['sample_id']]\n",
    "\tif 'rep=1.0225,rep_range=2048,tailfree=0.925,typical=0.85,top_a=0.12,top_p=0.985,temp=0.925,top_k=85' == sample['source1']:\n",
    "\t\tprint(f\"Reverie: {sample['text1']}\")\n",
    "\telif 'rep=1.0225,rep_range=2048,tailfree=0.925,typical=0.85,top_a=0.12,top_p=0.985,temp=0.925,top_k=85' == sample['source2']:\n",
    "\t\tprint(f\"Reverie: {sample['text2']}\")\n",
    "\t\n",
    "\tif 'rep=1.05,rep_range=560,tailfree=0.937,top_a=0.085,typical=0.965,top_p=0.88,temp=1.33' == sample['source1']:\n",
    "\t\tprint(f\"Blue Lighter: {sample['text1']}\")\n",
    "\telif 'rep=1.05,rep_range=560,tailfree=0.937,top_a=0.085,typical=0.965,top_p=0.88,temp=1.33' == sample['source2']:\n",
    "\t\tprint(f\"Blue Lighter: {sample['text2']}\")"
   ]
  },
  {
   "cell_type": "code",
   "execution_count": 106,
   "metadata": {},
   "outputs": [
    {
     "name": "stdout",
     "output_type": "stream",
     "text": [
      "{'id': 1502, 'text1': 'The Early Days of the Abbey of St. Peter, Gloucester ... Reprinted from the Transactions of the Bristol & Gloucestershire Archæological Society', 'text2': 'The History of a Consummate Scoundrel', 'source1': 'real', 'source2': 'temp=0.7,top_k=40'}\n",
      "{'id': 2097, 'text1': 'The History of a Consummate Scoundrel', 'text2': 'Ropes of Sand. A novel', 'source1': 'temp=0.7,top_k=40', 'source2': 'real'}\n",
      "{'id': 2571, 'text1': 'The Life of the Right Hon. Sir Robert Peel ... By his Son', 'text2': 'The History of a Consummate Scoundrel', 'source1': 'temp=0.7,top_k=40', 'source2': 'temp=0.7,top_k=40'}\n"
     ]
    }
   ],
   "source": [
    "# Find the sample with \"ropes of sand\" in the title\n",
    "for sample in samples.values():\n",
    "\tif \"consummate\" in sample['text1'].lower() or \"consummate\" in sample['text2'].lower():\n",
    "\t\tprint(sample)"
   ]
  },
  {
   "cell_type": "code",
   "execution_count": 112,
   "metadata": {},
   "outputs": [],
   "source": [
    "# Backup A-B Study\n",
    "def backup_ab_study(project_id):\n",
    "\tresp = requests.get(f\"{AB_TESTER_URL}project/get_samples\", headers={ \"Authorization\": f\"Bearer {project_id}\" })\n",
    "\tresp.raise_for_status()\n",
    "\tsamples = resp.json()\n",
    "\n",
    "\tresp = requests.get(f\"{AB_TESTER_URL}project/get_ratings\", headers={ \"Authorization\": f\"Bearer {project_id}\" })\n",
    "\tresp.raise_for_status()\n",
    "\tratings = resp.json()\n",
    "\n",
    "\twith open(f\"ab-testing-data/{project_id}.json\", \"w\") as f:\n",
    "\t\tjson.dump({\n",
    "\t\t\t\"samples\": samples,\n",
    "\t\t\t\"ratings\": ratings,\n",
    "\t\t}, f, indent=4)\n",
    "\n",
    "project_id = getpass.getpass(\"Project ID\")\n",
    "backup_ab_study(project_id)"
   ]
  },
  {
   "cell_type": "code",
   "execution_count": 109,
   "metadata": {},
   "outputs": [
    {
     "name": "stdout",
     "output_type": "stream",
     "text": [
      "['014811142', 'Monograph', 'Francillon, Robert Edward', '', 'person', '', 'Francillon, Robert Edward [person]', 'Ropes of Sand. A novel', '', '', '', 'England', 'London', 'Chatto & Windus', '1893', '', '3 volumes (8°)', '', 'Digital Store 012637.g.9', '', '', 'English', '', '001305099']\n",
      "['014815451', 'Monograph', 'Warren, John Byrne Leicester, Baron de Tabley', '1835-1895', 'person', '', 'Warren, John Byrne Leicester, Baron de Tabley, 1835-1895 [person]', 'Ropes of Sand. A novel. By W. P. Lancaster', '', '', '', 'England', 'Bungay ; London', '', '1869', '', '3 volumes (8°)', '', 'Digital Store 12626.a.7', '', '', 'English', '', '002064276']\n"
     ]
    }
   ],
   "source": [
    "import csv\n",
    "\n",
    "with open(\"MS_digitised_books_2021-01-09.csv\", \"r\") as f:\n",
    "\treader = csv.reader(f)\n",
    "\tfor row in reader:\n",
    "\t\t# Check all columns for \"ropes of sand\"\n",
    "\t\tif any(\"ropes of sand\" in column.lower() for column in row):\n",
    "\t\t\tprint(row)"
   ]
  },
  {
   "cell_type": "code",
   "execution_count": 2,
   "metadata": {},
   "outputs": [
    {
     "name": "stdout",
     "output_type": "stream",
     "text": [
      "['\\nThe \"Rush\" was on. The \"Rush,\" always', \"\\nThe next morning, when I awoke, the sun's rays were\", '\\nIt was a hot morning in June, and a little boy was seated', '\\n\"The very first time I saw her was when I was a very']\n"
     ]
    }
   ],
   "source": [
    "# TODO: Generate book title\n",
    "\"\"\n",
    "\n",
    "num_chapters = random.randint(5, 40)\n",
    "\n",
    "for n_chapter in range(num_chapters):\n",
    "\n"
   ]
  },
  {
   "cell_type": "code",
   "execution_count": null,
   "metadata": {},
   "outputs": [],
   "source": []
  },
  {
   "cell_type": "code",
   "execution_count": 150,
   "metadata": {},
   "outputs": [
    {
     "data": {
      "text/plain": [
       "187"
      ]
     },
     "execution_count": 150,
     "metadata": {},
     "output_type": "execute_result"
    }
   ],
   "source": [
    "tokenizer.encode(\"\\n\")[0]"
   ]
  },
  {
   "cell_type": "code",
   "execution_count": 398,
   "metadata": {},
   "outputs": [
    {
     "name": "stdout",
     "output_type": "stream",
     "text": [
      "######\n",
      "#                                                                                                                                                                                                                                                                                                                                                                                                                                                                                                                                                                                                                                                                                                                                                                                                                                                                                                                                                                                                                                                                                                                                                                                                                                                                                                                                                                                                                                                                                                                                                                                                                                                                                                                                                                                                                                                                                                                                                                                                                                                                                                                                                                                                                                                                                                                                                                                                                                                                                                                                                                                                                                                                                                                                                                                                                                                                                                                                                                                                                                                                                                                        \n",
      "\n",
      "#\n",
      "#  Copyright (c) 2009-2020 Gregory Schott\n",
      "#\n",
      "#  You may not use this file except in compliance with the License,\n",
      "#  which is provided in LICENSE.txt.\n",
      "#  This file is distributed on an \"AS IS\" BASIS,\n",
      "#  WITHOUT WARRANTIES OR CONDITIONS OF ANY KIND, either express or implied.\n",
      "#  See the License for the specific language governing permissions and\n",
      "#  limitations under the License.\n",
      "#\n",
      "#################################################################################\n",
      "\n",
      "import os\n",
      "import sys\n",
      "import json\n",
      "import glob\n",
      "import shutil\n",
      "import subprocess\n",
      "import\n",
      "\n",
      "#\n",
      "#  Copyright (c) 2009-2013, ARM Limited. All rights reserved.\n",
      "#\n",
      "#  SPDX-License-Identifier: LicenseRef-BSD-3-Clause-UC\n",
      "#\n",
      "#  Redistribution and use in source and binary forms, with or without\n",
      "#  modification, are permitted provided that the following conditions are met:\n",
      "#\n",
      "#  - Redistributions of source code must retain the above copyright notice,\n",
      "#    this list of conditions and the following disclaimer.\n",
      "#\n",
      "#  - Redistributions in binary form must reproduce the above copyright notice,\n",
      "#    this\n",
      "############\n",
      "#\n",
      "# Copyright (c) 2020 by Hire Solutions.\n",
      "#\n",
      "# Licensed under the Apache License, Version 2.0 (the \"License\");\n",
      "# you may not use this file except in compliance with the License.\n",
      "# You may obtain a copy of the License at\n",
      "#\n",
      "# http://www.apache.org/licenses/LICENSE-2.0\n",
      "#\n",
      "# Unless required by applicable law or agreed to in writing, software\n",
      "# distributed under the License is distributed on an \"AS IS\" BASIS,\n",
      "# WITHOUT WARRANTIES OR CONDITIONS OF ANY KIND, either express or implied.\n",
      "\n",
      "\n",
      "# Copyright (c) 2003, 2005, 2006, 2007  Dustin Sallings <dustin@spy.net>\n",
      "#\n",
      "# Permission is hereby granted, free of charge, to any person obtaining a copy\n",
      "# of this software and associated documentation files (the \"Software\"), to deal\n",
      "# in the Software without restriction, including without limitation the rights\n",
      "# to use, copy, modify, merge, publish, distribute, sublicense, and/or sell\n",
      "# copies of the Software, and to permit persons to whom the Software is\n",
      "# furnished to do so, subject to the following conditions:\n",
      "############\n",
      "##\n",
      "##  File:  mk_include_config.mk\n",
      "##\n",
      "##  Description:\n",
      "##  Configure the build system to include the appropriate include files\n",
      "##\n",
      "##  $Id: mk_include_config.mk,v 1.3 2004/03/21 21:49:18 hiram Exp $\n",
      "##\n",
      "##  Copyright (c) 2004, 2005, 2006 by Hiram Chirino\n",
      "##  copyright (c) 2008 by David A. Wheeler\n",
      "##\n",
      "##  This software is provided 'as-is', without any express or implied\n",
      "##  \n",
      "\n",
      "\n",
      "def get_url_list(url_list):\n",
      "    \"\"\"\n",
      "    Get the list of URLs to be downloaded\n",
      "    :param url_list:\n",
      "    :return:\n",
      "    \"\"\"\n",
      "    if url_list is None:\n",
      "        return None\n",
      "\n",
      "    return url_list\n",
      "\n",
      "def get_urls_from_url_list(url_list):\n",
      "    \"\"\"\n",
      "    Get the list of URLs from the list of URLs\n",
      "    :param url_list:\n",
      "    :return:\n",
      "    \"\"\"\n",
      "    if url_list is None:\n",
      "        return None\n",
      "\n",
      "    urls =\n",
      "\n",
      "\n",
      "[CmdletBinding()]\n",
      "Param(\n",
      "    [Parameter(Mandatory=$true)]\n",
      "    [String]$File,\n",
      "    [Parameter(Mandatory=$true)]\n",
      "    [String]$Destination,\n",
      "    [Parameter(Mandatory=$true)]\n",
      "    [String]$DestinationFolder\n",
      ")\n",
      "\n",
      "$ErrorActionPreference = \"Stop\"\n",
      "\n",
      "#-------------------------------------------------------------------------------\n",
      "# Function: Get-TargetResource\n",
      "#\n",
      "# Description:\n",
      "#  Gets the target resource from the file system\n",
      "#\n",
      "# Param(\n",
      "#   [Parameter(Mandatory=$\n",
      "\n",
      "\n",
      "#\n",
      "#  Copyright (c) 2008-2009 Benoit DEBIEVE <benoit.debeve@gmail.com>\n",
      "#  Copyright (c) 2008-2009 Bruno Levy <bln@nmap.org>\n",
      "#  Copyright (c) 2008-2009 Braden McDaniel <braden@endoframe.com>\n",
      "#  Copyright (c) 2009-2010 Aaron Campbell <aaron.m.campbell@gmail.com>\n",
      "#\n",
      "#  This program is free software; you can redistribute it and/or modify\n",
      "#  it under the terms of the\n",
      "\n",
      "##\n",
      "##  Example:\n",
      "##\n",
      "##  $ cat test.sh\n",
      "##  [ -z \"$1\" ] && exit 0\n",
      "##  [ -z \"$2\" ] && exit 0\n",
      "##  [ -z \"$3\" ] && exit 0\n",
      "##  [ -z \"$4\" ] && exit 0\n",
      "##  [ -z \"$5\" ] && exit 0\n",
      "##  [ -z \"$6\" ] && exit 0\n",
      "##  [ -z \"$7\" ] && exit 0\n",
      "##  [ -z \"$8\" ] && exit 0\n",
      "##  [ -z \"$\n",
      "\n",
      "##\n",
      "## Copyright (c) 2009-2010 The University of Utah\n",
      "## Copyright (c) 2011-2015 The Regents of the University of California\n",
      "## Copyright (c) 2016-2017 Google, Inc.\n",
      "## All rights reserved.\n",
      "##\n",
      "## Permission is hereby granted, free of charge, to any person obtaining a\n",
      "## copy of this software and associated documentation files (the\n",
      "## \"Software\"), to deal in the Software without restriction, including\n",
      "## without limitation the rights to use, copy, modify, merge, publish,\n",
      "## distribute, and/or sell copies of the Software, and to permit\n",
      "\n",
      "##\n",
      "##  File:  lib/common.sh\n",
      "##\n",
      "##  Description:\n",
      "##\n",
      "##  Common definitions\n",
      "##\n",
      "##############################################################################\n",
      "\n",
      "# Path to the root of the build tree\n",
      "ROOT=$(pwd)\n",
      "\n",
      "# Path to the top of the build tree\n",
      "TOP=$(cd $(dirname $0); cd ..; pwd)\n",
      "\n",
      "# Directory to store the generated files\n",
      "OUTDIR=$(TOP)/out\n",
      "\n",
      "# Directory to store the generated files\n",
      "TMPDIR=$(TOP)/tmp\n",
      "\n",
      "# Directory to store the generated files\n",
      "OBJDIR=$(TOP)/obj\n",
      "\n",
      "\n",
      "\n",
      "#                                                                                                                                                                                                                                                                                                                                                                                                                                                                                                                                                                                                                                                                                                                                                                                                                                                                                                                                                                                                                                                                                                                                                                                                                                                                                                                                                                                                                                                                                                                                                                                                                                                                                                                                                                                                                                                                                                                                                                                                                                                                                                                                                                                                                                                                                                                                                                                                                                                                                                                                                                                                                                                                                                                                                                                                                                                                                                                                                                                                                                                                                                                                                \n",
      "\n",
      "#  File:         \t\t./kdev_bin_2.1.1.0.tar.gz\n",
      "#  Description:\t\tKDevelop IDE for C/C++\n",
      "#  Author:\t\t\tKDevelop\n",
      "#  License:\t\tGPL\n",
      "#  Version:\t\t2.1.1\n",
      "#  Requires:\t\tKDevPlatform\n",
      "#  Installed:\t\tYes\n",
      "#  Platform:\t\tlinux\n",
      "#  IDE:\t\t\tKDevelop\n",
      "#  IDE Version:\t\t4.7.3\n",
      "#  IDE Install Name:\tk\n",
      "\n",
      "\n",
      "--echo #\n",
      "--echo # Bug#37863: Partitioning table with foreign key\n",
      "--echo #\n",
      "\n",
      "CREATE TABLE t1 (\n",
      "  c1 INT NOT NULL,\n",
      "  c2 INT NOT NULL,\n",
      "  c3 INT NOT NULL,\n",
      "  c4 INT NOT NULL,\n",
      "  c5 INT NOT NULL,\n",
      "  c6 INT NOT NULL,\n",
      "  c7 INT NOT NULL,\n",
      "  c8 INT NOT NULL,\n",
      "  c9 INT NOT NULL,\n",
      "  c10 INT NOT NULL,\n",
      "  c11 INT NOT NULL,\n",
      "  c12 INT NOT NULL,\n",
      "\n",
      "##\n",
      "##  /c/src/app/build/Makefile\n",
      "##\n",
      "##  Copyright (c) 2010-2014, 2017-2018, 2020, Oracle and/or its affiliates. All rights reserved.\n",
      "##\n",
      "##  This program is free software; you can redistribute it and/or modify\n",
      "##  it under the terms of the GNU General Public License, version 2,\n",
      "##  as published by the Free Software Foundation.\n",
      "##\n",
      "##  This program is distributed in the hope that it will be useful,\n",
      "##  but WITHOUT ANY WARRANTY; without even the implied warranty of\n",
      "##  \n"
     ]
    }
   ],
   "source": [
    "for _ in range(16):\n",
    "\tprint(gpt_api(\"foobar\", temperature=0.7, top_k=0, top_p=0.7, maximum_tokens=128, samples=1, eos_token=None)[0])"
   ]
  },
  {
   "cell_type": "code",
   "execution_count": 450,
   "metadata": {},
   "outputs": [
    {
     "name": "stdout",
     "output_type": "stream",
     "text": [
      "Context length: 1024\n",
      "3.4793848991394043s\n",
      "3.350806951522827s\n",
      "3.4069037437438965s\n",
      "3.522256851196289s\n"
     ]
    }
   ],
   "source": [
    "# Benchmark\n",
    "prompt = \"\"\n",
    "while token_length(prompt) < 1024:\n",
    "\tprompt += \"abc\"\n",
    "\n",
    "print(f\"Context length: {token_length(prompt)}\")\n",
    "\n",
    "for _ in range(4):\n",
    "\tstart_time = time.time()\n",
    "\tgpt_api(prompt, temperature=0.7, top_k=0, top_p=0.5, maximum_tokens=64, n_samples=1)\n",
    "\tprint(f\"{time.time() - start_time}s\")"
   ]
  },
  {
   "cell_type": "markdown",
   "metadata": {},
   "source": [
    "# Without NVLink:\n",
    "\n",
    "Context length: 1024\n",
    "3.7007622718811035s\n",
    "3.5063722133636475s\n",
    "3.663666248321533s\n",
    "3.5835208892822266s\n",
    "\n",
    "# With NVLink\n",
    "\n",
    "Context length: 1024\n",
    "3.4793848991394043s\n",
    "3.350806951522827s\n",
    "3.4069037437438965s\n",
    "3.522256851196289s"
   ]
  },
  {
   "cell_type": "code",
   "execution_count": null,
   "metadata": {},
   "outputs": [],
   "source": []
  },
  {
   "cell_type": "code",
   "execution_count": 11,
   "metadata": {},
   "outputs": [
    {
     "data": {
      "text/plain": [
       "(50432,)"
      ]
     },
     "execution_count": 11,
     "metadata": {},
     "output_type": "execute_result"
    }
   ],
   "source": [
    "x = np.random.rand(1, 1020, 50432)\n",
    "x[0,-1,:].shape"
   ]
  },
  {
   "cell_type": "code",
   "execution_count": 8,
   "metadata": {},
   "outputs": [
    {
     "data": {
      "text/plain": [
       "array([[[0.20583061, 0.25655888, 0.57376255, ..., 0.63722464,\n",
       "         0.18469649, 0.72157616],\n",
       "        [0.77890523, 0.67140767, 0.31467863, ..., 0.80892395,\n",
       "         0.36885446, 0.32894237],\n",
       "        [0.83927681, 0.78117119, 0.31400823, ..., 0.37632704,\n",
       "         0.13194221, 0.79551261],\n",
       "        ...,\n",
       "        [0.82604518, 0.53916013, 0.89331545, ..., 0.63911151,\n",
       "         0.7811522 , 0.98363328],\n",
       "        [0.90330042, 0.03070979, 0.10536325, ..., 0.13524872,\n",
       "         0.9917675 , 0.05303584],\n",
       "        [0.77258278, 0.41883475, 0.58816712, ..., 0.86285744,\n",
       "         0.1125331 , 0.52431572]]])"
      ]
     },
     "execution_count": 8,
     "metadata": {},
     "output_type": "execute_result"
    }
   ],
   "source": []
  },
  {
   "cell_type": "code",
   "execution_count": null,
   "metadata": {},
   "outputs": [],
   "source": []
  }
 ],
 "metadata": {
  "interpreter": {
   "hash": "113bc059b3cf980659647d598f6e407ca4a3165a92d031c5ef1f18d1759a92e2"
  },
  "kernelspec": {
   "display_name": "Python 3.9.12 ('tmpenv')",
   "language": "python",
   "name": "python3"
  },
  "language_info": {
   "codemirror_mode": {
    "name": "ipython",
    "version": 3
   },
   "file_extension": ".py",
   "mimetype": "text/x-python",
   "name": "python",
   "nbconvert_exporter": "python",
   "pygments_lexer": "ipython3",
   "version": "3.9.12"
  },
  "orig_nbformat": 4
 },
 "nbformat": 4,
 "nbformat_minor": 2
}
