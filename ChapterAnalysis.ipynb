{
 "cells": [
  {
   "cell_type": "code",
   "execution_count": 1,
   "metadata": {},
   "outputs": [
    {
     "name": "stderr",
     "output_type": "stream",
     "text": [
      "/opt/homebrew/Caskroom/miniconda/base/envs/tmpenv/lib/python3.9/site-packages/tqdm/auto.py:22: TqdmWarning: IProgress not found. Please update jupyter and ipywidgets. See https://ipywidgets.readthedocs.io/en/stable/user_install.html\n",
      "  from .autonotebook import tqdm as notebook_tqdm\n",
      "None of PyTorch, TensorFlow >= 2.0, or Flax have been found. Models won't be available and only tokenizers, configuration and file/data utilities can be used.\n"
     ]
    }
   ],
   "source": [
    "import json\n",
    "import re\n",
    "import transformers\n",
    "from transformers import GPTNeoXTokenizerFast"
   ]
  },
  {
   "cell_type": "code",
   "execution_count": 2,
   "metadata": {},
   "outputs": [],
   "source": [
    "tokenizer = GPTNeoXTokenizerFast.from_pretrained(\"EleutherAI/gpt-neox-20b\")"
   ]
  },
  {
   "cell_type": "code",
   "execution_count": 3,
   "metadata": {},
   "outputs": [
    {
     "name": "stdout",
     "output_type": "stream",
     "text": [
      "25: <re.Match object; span=(37, 46), match='CHAPTER I'>\n",
      "28: <re.Match object; span=(1080, 1090), match='CHAPTER II'>\n",
      "31: <re.Match object; span=(2587, 2598), match='CHAPTER III'>\n",
      "34: <re.Match object; span=(901, 911), match='CHAPTER IV'>\n",
      "42: <re.Match object; span=(16, 25), match='CHAPTER V'>\n",
      "45: <re.Match object; span=(327, 337), match='CHAPTER VI'>\n",
      "48: <re.Match object; span=(1380, 1391), match='CHAPTER VII'>\n",
      "51: <re.Match object; span=(2089, 2101), match='CHAPTER VIII'>\n",
      "55: <re.Match object; span=(1581, 1591), match='CHAPTER IX'>\n",
      "59: <re.Match object; span=(335, 344), match='CHAPTER X'>\n",
      "65: <re.Match object; span=(20, 29), match='CHAPTER I'>\n",
      "67: <re.Match object; span=(2006, 2016), match='CHAPTER II'>\n",
      "71: <re.Match object; span=(2043, 2054), match='CHAPTER III'>\n",
      "74: <re.Match object; span=(1440, 1450), match='CHAPTER IV'>\n",
      "77: <re.Match object; span=(937, 946), match='CHAPTER V'>\n",
      "80: <re.Match object; span=(294, 304), match='CHAPTER VI'>\n",
      "84: <re.Match object; span=(1636, 1647), match='CHAPTER VII'>\n",
      "88: <re.Match object; span=(1763, 1775), match='CHAPTER VIII'>\n",
      "91: <re.Match object; span=(864, 874), match='CHAPTER IX'>\n",
      "98: <re.Match object; span=(20, 29), match='CHAPTER X'>\n",
      "116: <re.Match object; span=(21, 31), match='CHAPTER XI'>\n",
      "126: <re.Match object; span=(1639, 1650), match='CHAPTER XII'>\n",
      "131: <re.Match object; span=(533, 545), match='CHAPTER XIII'>\n",
      "141: <re.Match object; span=(1381, 1392), match='CHAPTER XIV'>\n",
      "145: <re.Match object; span=(739, 749), match='CHAPTER XV'>\n",
      "151: <re.Match object; span=(21, 32), match='CHAPTER XVI'>\n",
      "159: <re.Match object; span=(1581, 1593), match='CHAPTER XVII'>\n",
      "163: <re.Match object; span=(2402, 2415), match='CHAPTER XVIII'>\n",
      "182: <re.Match object; span=(1647, 1658), match='CHAPTER XIX'>\n",
      "219: <re.Match object; span=(1730, 1740), match='CHAPTER XX'>\n",
      "263: <re.Match object; span=(21, 32), match='CHAPTER XXI'>\n",
      "278: <re.Match object; span=(1555, 1567), match='CHAPTER XXII'>\n",
      "300: <re.Match object; span=(21, 34), match='CHAPTER XXIII'>\n",
      "[3, 3, 3, 8, 3, 3, 3, 4, 4, 6, 2, 4, 3, 3, 3, 4, 4, 3, 7, 18, 10, 5, 10, 4, 6, 8, 4, 19, 37, 44, 15, 22]\n",
      "8.59375\n",
      "4\n"
     ]
    }
   ],
   "source": [
    "with open('json/0014/001454483_01_text.json', 'r') as f:\n",
    "\tdata = json.load(f)\n",
    "\n",
    "\n",
    "chapter_pages = []\n",
    "\n",
    "for page in data:\n",
    "\t# See if page[1] contains \"CHAPTER\" followed by a roman numeral using regex\n",
    "\tm = re.search(r'CHAPTER [IVXLCDM]+', page[1])\n",
    "\tif m:\n",
    "\t\tchapter_pages.append(page[0])\n",
    "\t\tprint(f\"{page[0]}: {m}\")\n",
    "\n",
    "# Calculate chapter page counts\n",
    "chapter_page_counts = [b - a for a,b in zip(chapter_pages, chapter_pages[1:])]\n",
    "print(chapter_page_counts)\n",
    "\n",
    "# Remove outliers\n",
    "#chapter_page_counts = [x for x in chapter_page_counts if x < 15]\n",
    "\n",
    "# Average\n",
    "print(sum(chapter_page_counts) / len(chapter_page_counts))\n",
    "\n",
    "# Median\n",
    "chapter_page_counts.sort()\n",
    "print(chapter_page_counts[len(chapter_page_counts) // 2])\n"
   ]
  },
  {
   "cell_type": "code",
   "execution_count": 5,
   "metadata": {},
   "outputs": [
    {
     "name": "stdout",
     "output_type": "stream",
     "text": [
      "[0, 0, 0, 0, 0, 0, 0, 0, 240, 27, 321, 302, 655, 819, 815, 819, 344, 636, 712, 680, 736, 675, 639, 388, 478, 632, 589, 535, 578, 582, 589, 572, 593, 486, 587, 589, 649, 555, 584, 633, 669, 534, 603, 619, 602, 587, 617, 583, 612, 602, 573, 632, 605, 598, 586, 580, 628, 645, 556, 590, 611, 597, 581, 204, 511, 610, 630, 593, 616, 617, 667, 632, 615, 623, 656, 597, 611, 602, 654, 585, 601, 622, 629, 642, 623, 635, 612, 637, 624, 621, 622, 606, 614, 654, 612, 638, 680, 543, 625, 633, 620, 602, 630, 646, 618, 614, 608, 604, 640, 613, 611, 643, 639, 634, 662, 571, 581, 608, 638, 645, 627, 625, 615, 604, 593, 698, 620, 625, 618, 653, 610, 633, 618, 635, 610, 614, 641, 661, 633, 620, 660, 653, 618, 655, 612, 624, 618, 623, 653, 657, 590, 628, 660, 589, 637, 621, 630, 602, 619, 616, 630, 622, 619, 635, 627, 620, 637, 613, 643, 663, 637, 666, 665, 630, 633, 621, 608, 613, 602, 661, 638, 636, 619, 610, 649, 652, 640, 628, 625, 644, 672, 642, 642, 628, 640, 658, 613, 637, 605, 646, 618, 659, 641, 615, 608, 623, 629, 644, 641, 651, 621, 587, 632, 605, 646, 596, 626, 639, 645, 580, 593, 598, 615, 628, 660, 645, 640, 636, 629, 570, 618, 648, 618, 632, 613, 620, 651, 655, 619, 617, 616, 666, 641, 628, 635, 613, 676, 598, 631, 662, 645, 643, 563, 577, 610, 617, 592, 617, 619, 615, 619, 716, 546, 631, 629, 624, 602, 657, 616, 574, 588, 646, 631, 643, 612, 625, 629, 654, 637, 627, 622, 626, 620, 689, 668, 607, 619, 626, 674, 675, 651, 660, 681, 692, 627, 618, 643, 594, 627, 606, 632, 628, 624, 656, 302, 472, 427, 0, 0, 0, 0, 0]\n",
      "Average: 589.1217948717949\n",
      "Median: 622\n"
     ]
    }
   ],
   "source": [
    "# Calculate average page token length\n",
    "page_token_lengths = []\n",
    "\n",
    "for page in data:\n",
    "\tpage_token_lengths.append(tokenizer(page[1], return_tensors=\"np\").input_ids.shape[1])\n",
    "\n",
    "print(page_token_lengths)\n",
    "\n",
    "# Print average page token length\n",
    "print(f\"Average: {sum(page_token_lengths) / len(page_token_lengths)}\")\n",
    "\n",
    "# Print median\n",
    "page_token_lengths.sort()\n",
    "print(f\"Median: {page_token_lengths[len(page_token_lengths) // 2]}\")"
   ]
  },
  {
   "cell_type": "code",
   "execution_count": null,
   "metadata": {},
   "outputs": [],
   "source": []
  }
 ],
 "metadata": {
  "interpreter": {
   "hash": "113bc059b3cf980659647d598f6e407ca4a3165a92d031c5ef1f18d1759a92e2"
  },
  "kernelspec": {
   "display_name": "Python 3.9.12 ('tmpenv')",
   "language": "python",
   "name": "python3"
  },
  "language_info": {
   "codemirror_mode": {
    "name": "ipython",
    "version": 3
   },
   "file_extension": ".py",
   "mimetype": "text/x-python",
   "name": "python",
   "nbconvert_exporter": "python",
   "pygments_lexer": "ipython3",
   "version": "3.9.12"
  },
  "orig_nbformat": 4
 },
 "nbformat": 4,
 "nbformat_minor": 2
}
